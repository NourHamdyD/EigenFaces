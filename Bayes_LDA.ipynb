{
  "nbformat": 4,
  "nbformat_minor": 0,
  "metadata": {
    "colab": {
      "provenance": []
    },
    "kernelspec": {
      "name": "python3",
      "display_name": "Python 3"
    },
    "language_info": {
      "name": "python"
    }
  },
  "cells": [
    {
      "cell_type": "markdown",
      "source": [
        "## Import Libraries"
      ],
      "metadata": {
        "id": "1n7Fxe7kvPsR"
      }
    },
    {
      "cell_type": "code",
      "source": [
        "from sklearn.datasets import fetch_olivetti_faces\n",
        "from sklearn.model_selection import train_test_split\n",
        "from sklearn.discriminant_analysis import LinearDiscriminantAnalysis\n",
        "from sklearn.decomposition import PCA\n",
        "import os\n",
        "import cv2\n",
        "# from google.colab.patches import cv2_imshow\n",
        "import numpy as np\n",
        "from numpy import linalg as LA\n",
        "from sklearn.neighbors import KNeighborsClassifier\n",
        "from sklearn import metrics\n",
        "from sklearn.metrics import classification_report, confusion_matrix\n",
        "import matplotlib.pyplot as plt\n",
        "from random import sample\n",
        "import random"
      ],
      "metadata": {
        "id": "Kl-QZ3AUqGE9"
      },
      "execution_count": 6,
      "outputs": []
    },
    {
      "cell_type": "code",
      "source": [
        "from google.colab import drive\n",
        "drive.mount('/content/drive')"
      ],
      "metadata": {
        "colab": {
          "base_uri": "https://localhost:8080/"
        },
        "id": "fdzw8eNksJXI",
        "outputId": "23f1d0dc-079e-44f9-ca19-9751fbfdb9f6"
      },
      "execution_count": 8,
      "outputs": [
        {
          "output_type": "stream",
          "name": "stdout",
          "text": [
            "Mounted at /content/drive\n"
          ]
        }
      ]
    },
    {
      "cell_type": "markdown",
      "source": [
        "## Part 2 : Generate the Data Matrix and the Label vector"
      ],
      "metadata": {
        "id": "A047W_lWvWIF"
      }
    },
    {
      "cell_type": "code",
      "source": [
        "D = []\n",
        "y = []\n",
        "for i in range(1,41):\n",
        "  for j in range(1,11):\n",
        "    img_name = \"/content/drive/MyDrive/faces/s\"+str(i)+\"/\"+str(j)+\".pgm\"\n",
        "    img = cv2.imread(img_name,cv2.IMREAD_GRAYSCALE)\n",
        "    img = img.flatten()\n",
        "    D.append(img)\n",
        "    y.append(i)\n",
        "D = np.array(D)\n",
        "y = np.array(y)\n",
        "D.shape   "
      ],
      "metadata": {
        "colab": {
          "base_uri": "https://localhost:8080/"
        },
        "id": "RDGzpRdLqG4Z",
        "outputId": "6d16fa99-1a61-4fea-c7bc-bae501257f68"
      },
      "execution_count": 9,
      "outputs": [
        {
          "output_type": "execute_result",
          "data": {
            "text/plain": [
              "(400, 10304)"
            ]
          },
          "metadata": {},
          "execution_count": 9
        }
      ]
    },
    {
      "cell_type": "markdown",
      "source": [
        "## Part 3 : Split the Dataset into Training and Test sets"
      ],
      "metadata": {
        "id": "hxAyqU9WvcQ7"
      }
    },
    {
      "cell_type": "code",
      "source": [
        "testData = np.array([D[i] for i in range(0,400,2)]) # Test data\n",
        "trainData = np.array([D[i] for i in range(1,400,2)]) # Train data\n",
        "\n",
        "testLabel = np.array([y[i] for i in range(0,400,2)]) # Test labels\n",
        "trainLabel = np.array([y[i] for i in range(1,400,2)]) # Train labels"
      ],
      "metadata": {
        "id": "HRQDIn68qM2a"
      },
      "execution_count": 10,
      "outputs": []
    },
    {
      "cell_type": "markdown",
      "source": [
        "## Bayes LDA"
      ],
      "metadata": {
        "id": "uhpNfHuovlXL"
      }
    },
    {
      "cell_type": "code",
      "execution_count": 12,
      "metadata": {
        "colab": {
          "base_uri": "https://localhost:8080/"
        },
        "id": "rbL_Ebi5dCD9",
        "outputId": "62c17809-c659-4e3e-d542-4a3e9aa9d9ab"
      },
      "outputs": [
        {
          "output_type": "stream",
          "name": "stdout",
          "text": [
            "Accuracy: 94.50%\n"
          ]
        }
      ],
      "source": [
        "# Use PCA to extract features from the face images\n",
        "PCA = PCA(n_components=100) #\n",
        "trainData_pca = PCA.fit_transform(trainData)\n",
        "testData_pca = PCA.transform(testData)\n",
        "\n",
        "# Fit the Bayesian LDA model\n",
        "lda = LinearDiscriminantAnalysis(solver='lsqr', shrinkage='auto')\n",
        "lda.fit(trainData_pca, trainLabel)\n",
        "\n",
        "# Predict on test set\n",
        "y_pred = lda.predict(testData_pca)\n",
        "\n",
        "# Evaluate the model\n",
        "accuracy = lda.score(testData_pca, testLabel)\n",
        "print('Accuracy: {:.2f}%'.format(accuracy * 100))\n"
      ]
    }
  ]
}