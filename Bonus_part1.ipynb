{
  "cells": [
    {
      "cell_type": "markdown",
      "metadata": {
        "id": "VSH31UKTaIgQ"
      },
      "source": [
        "Import Libraries"
      ]
    },
    {
      "cell_type": "code",
      "execution_count": 135,
      "metadata": {
        "id": "ANQLJoIhBlz0"
      },
      "outputs": [],
      "source": [
        "import os\n",
        "import cv2\n",
        "# from google.colab.patches import cv2_imshow\n",
        "import numpy as np\n",
        "from numpy import linalg as LA\n",
        "from sklearn.neighbors import KNeighborsClassifier\n",
        "from sklearn import metrics\n",
        "from sklearn.metrics import classification_report, confusion_matrix\n",
        "import matplotlib.pyplot as plt\n",
        "from random import sample\n",
        "import random"
      ]
    },
    {
      "cell_type": "code",
      "execution_count": 136,
      "metadata": {
        "id": "wngmDbUDHdmP",
        "colab": {
          "base_uri": "https://localhost:8080/"
        },
        "outputId": "d6aef327-6011-4453-e82b-df17f37d43cc"
      },
      "outputs": [
        {
          "output_type": "stream",
          "name": "stdout",
          "text": [
            "Drive already mounted at /content/drive; to attempt to forcibly remount, call drive.mount(\"/content/drive\", force_remount=True).\n"
          ]
        }
      ],
      "source": [
        "from google.colab import drive\n",
        "drive.mount('/content/drive')"
      ]
    },
    {
      "cell_type": "markdown",
      "metadata": {
        "id": "9Czd4uIwaIgW"
      },
      "source": [
        "### KNN function"
      ]
    },
    {
      "cell_type": "code",
      "execution_count": 137,
      "metadata": {
        "id": "WbEsPvmLaIgW"
      },
      "outputs": [],
      "source": [
        "def knn(reducedTrainD, reducedTestD, labelsTrain, labelsTest, k ):\n",
        "  c=KNeighborsClassifier(n_neighbors = k)\n",
        "  c.fit(reducedTrainD,labelsTrain)\n",
        "  labelsPred=c.predict(reducedTestD)\n",
        "  accuracy = metrics.accuracy_score(labelsTest, labelsPred)\n",
        "  return accuracy"
      ]
    },
    {
      "cell_type": "markdown",
      "metadata": {
        "id": "fzbTw6_5aIgW"
      },
      "source": [
        "## Part 2 : Generate the Data Matrix and the Label vector"
      ]
    },
    {
      "cell_type": "code",
      "execution_count": 138,
      "metadata": {
        "id": "ixZdWFurHhvL",
        "colab": {
          "base_uri": "https://localhost:8080/"
        },
        "outputId": "d1410b03-2fba-4bf2-9947-ed2e7e3e94df"
      },
      "outputs": [
        {
          "output_type": "execute_result",
          "data": {
            "text/plain": [
              "(400, 10304)"
            ]
          },
          "metadata": {},
          "execution_count": 138
        }
      ],
      "source": [
        "# D = [] # Data matrix\n",
        "# y = [] # Labels\n",
        "# for i in range(1,41): # 40 people\n",
        "#   for j in range(1,11): # 10 images per person\n",
        "#     img_name = \"faces/s\"+str(i)+\"/\"+str(j)+\".pgm\" # Image name\n",
        "#     img = cv2.imread(img_name,cv2.IMREAD_GRAYSCALE) # Read image\n",
        "#     img = img.flatten() # Flatten image\n",
        "#     D.append(img) # Add image to data matrix\n",
        "#     y.append(i) # Add label to labels\n",
        "# D = np.array(D) # Convert to numpy array\n",
        "# y = np.array(y) # Convert to numpy array\n",
        "\n",
        "D = []\n",
        "y = []\n",
        "for i in range(1,41):\n",
        "  for j in range(1,11):\n",
        "    img_name = \"/content/drive/MyDrive/faces/s\"+str(i)+\"/\"+str(j)+\".pgm\"\n",
        "    img = cv2.imread(img_name,cv2.IMREAD_GRAYSCALE)\n",
        "    img = img.flatten()\n",
        "    D.append(img)\n",
        "    y.append(i)\n",
        "D = np.array(D)\n",
        "y = np.array(y)\n",
        "D.shape   "
      ]
    },
    {
      "cell_type": "markdown",
      "metadata": {
        "id": "WxV_I9PKaIgX"
      },
      "source": [
        "## Part 3 : Split the Dataset into Training and Test sets"
      ]
    },
    {
      "cell_type": "code",
      "execution_count": 65,
      "metadata": {
        "id": "P_BP3gXDHkhc"
      },
      "outputs": [],
      "source": [
        "# testData = np.array([D[i] for i in range(0,400,3)]) # Test data\n",
        "# trainData = np.array([D[i] for i in range(0,400,7)]) # Train data\n",
        "\n",
        "# testLabel = np.array([y[i] for i in range(0,120,1)]) # Test labels\n",
        "# trainLabel = np.array([y[i] for i in range(120,400,1)]) # Train labels"
      ]
    },
    {
      "cell_type": "code",
      "source": [
        "trainData ,testData=[] , []\n",
        "trainLabel, testLabel= [], []\n",
        "s=0\n",
        "for i in range(0,400,1):\n",
        "  if s < 7:\n",
        "    trainData.append(D[i])\n",
        "    trainLabel.append(y[i])\n",
        "    \n",
        "  else:\n",
        "    testData.append(D[i])\n",
        "    testLabel.append(y[i])\n",
        "    #print(i, end=\",\")\n",
        "  s=s+1\n",
        "\n",
        "  if s==10:\n",
        "    s=0\n",
        "trainData=np.array(trainData)\n",
        "testData=np.array(testData)\n",
        "trainLabel=np.array(trainLabel)\n",
        "testLabel=np.array(testLabel)"
      ],
      "metadata": {
        "id": "iQaYMnOFIo81"
      },
      "execution_count": 143,
      "outputs": []
    },
    {
      "cell_type": "code",
      "execution_count": 108,
      "metadata": {
        "id": "1tbDjbH6HnCD",
        "colab": {
          "base_uri": "https://localhost:8080/"
        },
        "outputId": "3cd781d7-50c7-4e3e-85b4-959779427ae4"
      },
      "outputs": [
        {
          "output_type": "stream",
          "name": "stdout",
          "text": [
            "(280, 10304)\n",
            "(120, 10304)\n",
            "(120,)\n",
            "(280,)\n"
          ]
        }
      ],
      "source": [
        "print(trainData.shape)\n",
        "print(testData.shape)\n",
        "print(testLabel.shape)\n",
        "print(trainLabel.shape)"
      ]
    },
    {
      "cell_type": "markdown",
      "metadata": {
        "id": "B5M66NSraIgY"
      },
      "source": [
        "## Part4 : Classification using PCA"
      ]
    },
    {
      "cell_type": "markdown",
      "metadata": {
        "id": "8HUom_2QaIgZ"
      },
      "source": [
        "Compute Mean"
      ]
    },
    {
      "cell_type": "code",
      "execution_count": 109,
      "metadata": {
        "id": "Ce8j27QQJUIP",
        "colab": {
          "base_uri": "https://localhost:8080/"
        },
        "outputId": "279f912e-a4ca-4ed6-d617-e11f99593899"
      },
      "outputs": [
        {
          "output_type": "stream",
          "name": "stdout",
          "text": [
            "[82.91785714 85.29642857 85.69642857 ... 74.73571429 74.15\n",
            " 73.25357143]\n",
            "[82.46666667 86.15833333 86.6        ... 81.85833333 79.76666667\n",
            " 79.64166667]\n"
          ]
        },
        {
          "output_type": "execute_result",
          "data": {
            "text/plain": [
              "(10304,)"
            ]
          },
          "metadata": {},
          "execution_count": 109
        }
      ],
      "source": [
        "trainMean = np.mean(trainData, axis=0) # Compute Train mean\n",
        "testMean= np.mean(testData, axis=0) # Compute Test mean\n",
        "print(trainMean)\n",
        "print(testMean)\n",
        "trainMean.shape"
      ]
    },
    {
      "cell_type": "markdown",
      "metadata": {
        "id": "gSlvPEhaaIga"
      },
      "source": [
        "Center the Data"
      ]
    },
    {
      "cell_type": "code",
      "execution_count": 110,
      "metadata": {
        "id": "CyQkGECbJUql"
      },
      "outputs": [],
      "source": [
        "trainCenter= trainData - trainMean # Center train data\n",
        "testCenter= testData- testMean # Center test data"
      ]
    },
    {
      "cell_type": "markdown",
      "metadata": {
        "id": "5TAzap1GaIgb"
      },
      "source": [
        "Compute Covariance Matrix"
      ]
    },
    {
      "cell_type": "code",
      "execution_count": 111,
      "metadata": {
        "id": "D-Iq1aZRJYPZ"
      },
      "outputs": [],
      "source": [
        "cova=np.cov(trainCenter, rowvar=False, bias=True) # Compute covariance matrix"
      ]
    },
    {
      "cell_type": "markdown",
      "metadata": {
        "id": "q5h6X9lyaIgb"
      },
      "source": [
        "Get Eigen vectors and Eigen Values of covariance matrix"
      ]
    },
    {
      "cell_type": "code",
      "execution_count": 112,
      "metadata": {
        "id": "L1UrBfg0JbFu",
        "colab": {
          "base_uri": "https://localhost:8080/"
        },
        "outputId": "571f9a1d-bde3-4eb0-9125-07f84337dcda"
      },
      "outputs": [
        {
          "output_type": "stream",
          "name": "stdout",
          "text": [
            "[ 2.92681447e+06  2.03802513e+06  1.13108628e+06 ... -1.12928409e-09\n",
            " -1.46578372e-09 -1.69284156e-09]\n",
            "\n",
            "\n",
            "[[ 3.86094331e-03 -1.02518580e-02 -2.01187863e-02 ...  0.00000000e+00\n",
            "   0.00000000e+00  0.00000000e+00]\n",
            " [ 4.09428928e-03 -1.41596018e-02 -2.11482640e-02 ...  6.91358989e-02\n",
            "   3.53543206e-01 -5.24030553e-01]\n",
            " [ 4.06944935e-03 -1.42393556e-02 -2.09417575e-02 ... -1.53977278e-01\n",
            "  -4.29025095e-01 -2.92980510e-01]\n",
            " ...\n",
            " [ 5.57568801e-03  1.20965478e-02 -1.11565965e-02 ... -8.38389834e-03\n",
            "  -2.17353191e-02  2.42392954e-03]\n",
            " [ 5.40038317e-03  1.14172238e-02 -1.16745287e-02 ... -8.25252255e-03\n",
            "  -1.66443159e-04 -3.62503857e-03]\n",
            " [ 6.41043790e-03  1.02504422e-02 -1.24709074e-02 ...  1.25915020e-02\n",
            "   5.76704673e-03 -1.65282543e-02]]\n"
          ]
        },
        {
          "output_type": "execute_result",
          "data": {
            "text/plain": [
              "(10304, 10304)"
            ]
          },
          "metadata": {},
          "execution_count": 112
        }
      ],
      "source": [
        "eigenVal, eigenVec = np.linalg.eigh(cova) # Compute eigenvalues and eigenvectors\n",
        "indices = eigenVal.argsort()[::-1] # Get the indices that would sort an array in descending order\n",
        "eigenVal=eigenVal[indices] # get eigenvalues in descending order\n",
        "eigenVec=eigenVec[:,indices] # get eigenvectors in descending order\n",
        "print(eigenVal)\n",
        "print(\"\\n\")\n",
        "print(eigenVec)\n",
        "eigenVec.shape"
      ]
    },
    {
      "cell_type": "markdown",
      "metadata": {
        "id": "t3zFcDyKaIgc"
      },
      "source": [
        "Project the training set, and test sets separately for differenet alpha"
      ]
    },
    {
      "cell_type": "code",
      "execution_count": 161,
      "metadata": {
        "id": "Q0Jfyrg1Jd7G"
      },
      "outputs": [],
      "source": [
        "alpha=np.array([0.8,0.85,0.9,0.95])\n",
        "accuracies=np.array([])\n",
        "totval= np.sum(eigenVal)\n",
        "explained=0\n",
        "for a in alpha:\n",
        "  r=0\n",
        "  sum=0\n",
        "  while explained <= a:\n",
        "    sum = sum+eigenVal[r]\n",
        "    explained=sum/totval\n",
        "    r=r+1\n",
        "  \n",
        "  if a==0.8:\n",
        "    p1=eigenVec[:,:r]\n",
        "    reducedTrain1=np.dot(trainCenter, p1)\n",
        "    reducedTest1=np.dot(testCenter, p1)\n",
        "    a1=knn(reducedTrain1,reducedTest1,trainLabel, testLabel,1)\n",
        "    r1=r\n",
        "  elif a==0.85:\n",
        "    p2=eigenVec[:,:r]\n",
        "    reducedTrain2=np.dot(trainCenter, p2)\n",
        "    reducedTest2=np.dot(testCenter, p2)\n",
        "    r2=r\n",
        "  elif a==0.9:\n",
        "    p3=eigenVec[:,:r]\n",
        "    reducedTrain3=np.dot(trainCenter, p3)\n",
        "    reducedTest3=np.dot(testCenter, p3)\n",
        "    r3=r\n",
        "  else:\n",
        "    p4=eigenVec[:,:r]\n",
        "    reducedTrain4=np.dot(trainCenter, p4)\n",
        "    reducedTest4=np.dot(testCenter, p4)\n",
        "    r4=r"
      ]
    },
    {
      "cell_type": "code",
      "execution_count": 162,
      "metadata": {
        "id": "mbwzf_QpJpUF",
        "colab": {
          "base_uri": "https://localhost:8080/"
        },
        "outputId": "cf9c1be9-3073-4bec-8a84-f814068e6fbd"
      },
      "outputs": [
        {
          "output_type": "stream",
          "name": "stdout",
          "text": [
            "\n",
            "\n",
            "alpha = 0.8\n",
            "n-neighbors= 1\n",
            "dimensions= 39\n",
            "accuracy: 0.9583333333333334\n",
            "\n",
            "\n",
            "alpha = 0.85\n",
            "n-neighbors= 1\n",
            "dimensions= 58\n",
            "accuracy: 0.9583333333333334\n",
            "\n",
            "\n",
            "alpha = 0.9\n",
            "n-neighbors= 1\n",
            "dimensions= 89\n",
            "accuracy: 0.95\n",
            "\n",
            "\n",
            "alpha = 0.95\n",
            "n-neighbors= 1\n",
            "dimensions= 145\n",
            "accuracy: 0.9416666666666667\n"
          ]
        }
      ],
      "source": [
        "\n",
        "for a in alpha:\n",
        "  print(\"\\n\")\n",
        "  print(\"alpha =\", a)\n",
        "  print(\"n-neighbors=\", 1)\n",
        "  if a==0.8:\n",
        "    a1=knn(reducedTrain1,reducedTest1,trainLabel, testLabel,1)\n",
        "    accuracies=np.append(accuracies,a1)\n",
        "    print(\"dimensions=\", r1)\n",
        "    print(\"accuracy:\", a1)\n",
        "  elif a==0.85:\n",
        "    a2=knn(reducedTrain2,reducedTest2,trainLabel, testLabel,1)\n",
        "    accuracies=np.append(accuracies,a2)\n",
        "    print(\"dimensions=\", r2)\n",
        "    print(\"accuracy:\", a2)\n",
        "  elif a==0.9:\n",
        "    a3=knn(reducedTrain3,reducedTest3,trainLabel, testLabel,1)\n",
        "    accuracies=np.append(accuracies,a3)\n",
        "    print(\"dimensions=\", r3)\n",
        "    print(\"accuracy:\", a3)\n",
        "  else:\n",
        "      a4=knn(reducedTrain4,reducedTest4,trainLabel, testLabel,1)\n",
        "      accuracies=np.append(accuracies,a4)\n",
        "      print(\"dimensions=\", r4)\n",
        "      print(\"accuracy:\", a4)"
      ]
    },
    {
      "cell_type": "markdown",
      "metadata": {
        "id": "u_VoTmZNaIge"
      },
      "source": [
        "Relation between alpha and classification accuracy"
      ]
    },
    {
      "cell_type": "code",
      "execution_count": 115,
      "metadata": {
        "id": "OGVw7qD2aIge",
        "colab": {
          "base_uri": "https://localhost:8080/",
          "height": 279
        },
        "outputId": "badc2408-1690-4e78-f34b-6225fc2c8058"
      },
      "outputs": [
        {
          "output_type": "display_data",
          "data": {
            "text/plain": [
              "<Figure size 432x288 with 1 Axes>"
            ],
            "image/png": "[encoded data removed]"
          },
          "metadata": {
            "needs_background": "light"
          }
        }
      ],
      "source": [
        "plt.plot(alpha, accuracies)\n",
        "plt.xlabel('alpha')\n",
        "plt.ylabel('accuracy')\n",
        "plt.show()"
      ]
    },
    {
      "cell_type": "markdown",
      "metadata": {
        "id": "rYXyOS7h-mlG"
      },
      "source": [
        "## Classification Using LDA"
      ]
    },
    {
      "cell_type": "markdown",
      "metadata": {
        "id": "pA3f9QPIaIge"
      },
      "source": [
        "Calculate the mean vector for every class Mu1, Mu2, ..., Mu40\n"
      ]
    },
    {
      "cell_type": "code",
      "execution_count": 116,
      "metadata": {
        "id": "OgYqFkUsaIge"
      },
      "outputs": [],
      "source": [
        "Mu = np.zeros((40,10304)) # 40 means, each of size 10304\n",
        "for i in range(40): # For each person\n",
        "  Mu[i] = np.mean(trainData[i*5:i*5+5], axis=0) # Compute mean of 5 images"
      ]
    },
    {
      "cell_type": "code",
      "execution_count": 117,
      "metadata": {
        "id": "HLYcPwQWaIgf",
        "colab": {
          "base_uri": "https://localhost:8080/"
        },
        "outputId": "6c149dad-40db-45b5-c173-b236c789b148"
      },
      "outputs": [
        {
          "output_type": "execute_result",
          "data": {
            "text/plain": [
              "array([[54.8, 56.4, 55. , ..., 36.8, 30.6, 34.4],\n",
              "       [24.4, 38.4, 40.8, ..., 78.2, 78.4, 79.6],\n",
              "       [48.8, 48.6, 49.2, ..., 54. , 51.4, 52.4],\n",
              "       ...,\n",
              "       [57.4, 59.8, 57.2, ..., 34. , 32.6, 34.4],\n",
              "       [79.4, 78.8, 79.6, ..., 80.4, 80. , 74.8],\n",
              "       [94.2, 92.2, 90.6, ..., 69.8, 70.4, 73.8]])"
            ]
          },
          "metadata": {},
          "execution_count": 117
        }
      ],
      "source": [
        "Mu"
      ]
    },
    {
      "cell_type": "markdown",
      "metadata": {
        "id": "m-eX22wYaIgf"
      },
      "source": [
        "Generate class specific subsets\n"
      ]
    },
    {
      "cell_type": "code",
      "execution_count": 118,
      "metadata": {
        "id": "OJWOeEwnaIgf"
      },
      "outputs": [],
      "source": [
        "D = np.zeros((40,5,10304)) # 40 people, 5 images per person, each image of size 10304\n",
        "for i in range(40):\n",
        "  D[i] = trainData[i*5:i*5+5]\n",
        "  "
      ]
    },
    {
      "cell_type": "code",
      "execution_count": 119,
      "metadata": {
        "id": "tLJsTzAVaIgf",
        "colab": {
          "base_uri": "https://localhost:8080/"
        },
        "outputId": "97d9e3fd-1984-46ad-85b9-0c0ccffb6086"
      },
      "outputs": [
        {
          "output_type": "execute_result",
          "data": {
            "text/plain": [
              "array([[[ 48.,  49.,  45., ...,  47.,  46.,  46.],\n",
              "        [ 60.,  60.,  62., ...,  32.,  34.,  34.],\n",
              "        [ 39.,  44.,  53., ...,  29.,  26.,  29.],\n",
              "        [ 63.,  53.,  35., ...,  41.,  10.,  24.],\n",
              "        [ 64.,  76.,  80., ...,  35.,  37.,  39.]],\n",
              "\n",
              "       [[ 10.,  43.,  50., ..., 156., 155., 158.],\n",
              "        [ 10.,  41.,  47., ...,  39.,  35.,  37.],\n",
              "        [ 35.,  36.,  37., ..., 144., 147., 143.],\n",
              "        [ 37.,  35.,  35., ...,  26.,  28.,  28.],\n",
              "        [ 30.,  37.,  35., ...,  26.,  27.,  32.]],\n",
              "\n",
              "       [[ 34.,  36.,  35., ...,  32.,  25.,  25.],\n",
              "        [ 35.,  32.,  36., ...,  25.,  28.,  29.],\n",
              "        [ 34.,  35.,  35., ...,  31.,  24.,  24.],\n",
              "        [ 38.,  35.,  36., ..., 138., 142., 141.],\n",
              "        [103., 105., 104., ...,  44.,  38.,  43.]],\n",
              "\n",
              "       ...,\n",
              "\n",
              "       [[ 39.,  46.,  42., ...,  19.,  19.,  25.],\n",
              "        [ 46.,  45.,  42., ...,  24.,  21.,  24.],\n",
              "        [ 38.,  46.,  38., ...,  27.,  23.,  26.],\n",
              "        [ 42.,  40.,  43., ...,  23.,  23.,  18.],\n",
              "        [122., 122., 121., ...,  77.,  77.,  79.]],\n",
              "\n",
              "       [[ 52.,  52.,  46., ...,  88.,  82.,  52.],\n",
              "        [124., 123., 126., ...,  75.,  72.,  78.],\n",
              "        [ 49.,  50.,  48., ...,  73.,  77.,  71.],\n",
              "        [ 48.,  48.,  55., ...,  88.,  93.,  99.],\n",
              "        [124., 121., 123., ...,  78.,  76.,  74.]],\n",
              "\n",
              "       [[ 63.,  56.,  51., ..., 118., 127., 137.],\n",
              "        [ 98., 100.,  99., ...,  53.,  48.,  52.],\n",
              "        [101., 100.,  99., ...,  49.,  52.,  52.],\n",
              "        [104.,  98., 100., ...,  52.,  49.,  53.],\n",
              "        [105., 107., 104., ...,  77.,  76.,  75.]]])"
            ]
          },
          "metadata": {},
          "execution_count": 119
        }
      ],
      "source": [
        "D"
      ]
    },
    {
      "cell_type": "markdown",
      "metadata": {
        "id": "Vw7cVkzsaIgf"
      },
      "source": [
        "Mean Vector for every class"
      ]
    },
    {
      "cell_type": "code",
      "execution_count": 120,
      "metadata": {
        "id": "3Wi-OcolaIgf"
      },
      "outputs": [],
      "source": [
        "μ = np.mean(D, axis=1)"
      ]
    },
    {
      "cell_type": "code",
      "execution_count": 121,
      "metadata": {
        "id": "V3kCMAY2aIgg",
        "colab": {
          "base_uri": "https://localhost:8080/"
        },
        "outputId": "098cd2b2-0ad5-489c-c603-8fab91c6c9da"
      },
      "outputs": [
        {
          "output_type": "execute_result",
          "data": {
            "text/plain": [
              "array([[54.8, 56.4, 55. , ..., 36.8, 30.6, 34.4],\n",
              "       [24.4, 38.4, 40.8, ..., 78.2, 78.4, 79.6],\n",
              "       [48.8, 48.6, 49.2, ..., 54. , 51.4, 52.4],\n",
              "       ...,\n",
              "       [57.4, 59.8, 57.2, ..., 34. , 32.6, 34.4],\n",
              "       [79.4, 78.8, 79.6, ..., 80.4, 80. , 74.8],\n",
              "       [94.2, 92.2, 90.6, ..., 69.8, 70.4, 73.8]])"
            ]
          },
          "metadata": {},
          "execution_count": 121
        }
      ],
      "source": [
        "μ"
      ]
    },
    {
      "cell_type": "markdown",
      "metadata": {
        "id": "-i5wmXyEaIgg"
      },
      "source": [
        "Calculate the between class metrices"
      ]
    },
    {
      "cell_type": "code",
      "execution_count": 122,
      "metadata": {
        "id": "Jb2HzvgfaIgg"
      },
      "outputs": [],
      "source": [
        "Sb = np.zeros((10304,10304)) # Between class scatter matrix\n",
        "for i in range(40):\n",
        "  Sb[i] = 5*np.matmul((μ[i] - trainMean).T, (μ[i] - trainMean))"
      ]
    },
    {
      "cell_type": "code",
      "execution_count": 123,
      "metadata": {
        "id": "LzER1Qz3aIgg",
        "colab": {
          "base_uri": "https://localhost:8080/"
        },
        "outputId": "622e250a-392e-4db6-f36f-52a07b721d88"
      },
      "outputs": [
        {
          "output_type": "execute_result",
          "data": {
            "text/plain": [
              "array([[67939669.75529335, 67939669.75529335, 67939669.75529335, ...,\n",
              "        67939669.75529335, 67939669.75529335, 67939669.75529335],\n",
              "       [36884160.66243622, 36884160.66243622, 36884160.66243622, ...,\n",
              "        36884160.66243622, 36884160.66243622, 36884160.66243622],\n",
              "       [21974254.07672194, 21974254.07672194, 21974254.07672194, ...,\n",
              "        21974254.07672194, 21974254.07672194, 21974254.07672194],\n",
              "       ...,\n",
              "       [       0.        ,        0.        ,        0.        , ...,\n",
              "               0.        ,        0.        ,        0.        ],\n",
              "       [       0.        ,        0.        ,        0.        , ...,\n",
              "               0.        ,        0.        ,        0.        ],\n",
              "       [       0.        ,        0.        ,        0.        , ...,\n",
              "               0.        ,        0.        ,        0.        ]])"
            ]
          },
          "metadata": {},
          "execution_count": 123
        }
      ],
      "source": [
        "Sb"
      ]
    },
    {
      "cell_type": "markdown",
      "metadata": {
        "id": "5sGvkrWTaIgh"
      },
      "source": [
        "Compute cener class matrices"
      ]
    },
    {
      "cell_type": "code",
      "execution_count": 124,
      "metadata": {
        "id": "SQkUgJvfaIgh"
      },
      "outputs": [],
      "source": [
        "# Compute Z\n",
        "Z = np.zeros((40,5,10304)) # 40 people, 5 images per person, each image of size 10304\n",
        "for i in range(40):\n",
        "    Z[i] = D[i] - μ[i].T "
      ]
    },
    {
      "cell_type": "code",
      "execution_count": 125,
      "metadata": {
        "id": "rSde6m9PaIgh",
        "colab": {
          "base_uri": "https://localhost:8080/"
        },
        "outputId": "dc91516d-b590-4f3f-9f68-eb49787de42b"
      },
      "outputs": [
        {
          "output_type": "execute_result",
          "data": {
            "text/plain": [
              "array([[[ -6.8,  -7.4, -10. , ...,  10.2,  15.4,  11.6],\n",
              "        [  5.2,   3.6,   7. , ...,  -4.8,   3.4,  -0.4],\n",
              "        [-15.8, -12.4,  -2. , ...,  -7.8,  -4.6,  -5.4],\n",
              "        [  8.2,  -3.4, -20. , ...,   4.2, -20.6, -10.4],\n",
              "        [  9.2,  19.6,  25. , ...,  -1.8,   6.4,   4.6]],\n",
              "\n",
              "       [[-14.4,   4.6,   9.2, ...,  77.8,  76.6,  78.4],\n",
              "        [-14.4,   2.6,   6.2, ..., -39.2, -43.4, -42.6],\n",
              "        [ 10.6,  -2.4,  -3.8, ...,  65.8,  68.6,  63.4],\n",
              "        [ 12.6,  -3.4,  -5.8, ..., -52.2, -50.4, -51.6],\n",
              "        [  5.6,  -1.4,  -5.8, ..., -52.2, -51.4, -47.6]],\n",
              "\n",
              "       [[-14.8, -12.6, -14.2, ..., -22. , -26.4, -27.4],\n",
              "        [-13.8, -16.6, -13.2, ..., -29. , -23.4, -23.4],\n",
              "        [-14.8, -13.6, -14.2, ..., -23. , -27.4, -28.4],\n",
              "        [-10.8, -13.6, -13.2, ...,  84. ,  90.6,  88.6],\n",
              "        [ 54.2,  56.4,  54.8, ..., -10. , -13.4,  -9.4]],\n",
              "\n",
              "       ...,\n",
              "\n",
              "       [[-18.4, -13.8, -15.2, ..., -15. , -13.6,  -9.4],\n",
              "        [-11.4, -14.8, -15.2, ..., -10. , -11.6, -10.4],\n",
              "        [-19.4, -13.8, -19.2, ...,  -7. ,  -9.6,  -8.4],\n",
              "        [-15.4, -19.8, -14.2, ..., -11. ,  -9.6, -16.4],\n",
              "        [ 64.6,  62.2,  63.8, ...,  43. ,  44.4,  44.6]],\n",
              "\n",
              "       [[-27.4, -26.8, -33.6, ...,   7.6,   2. , -22.8],\n",
              "        [ 44.6,  44.2,  46.4, ...,  -5.4,  -8. ,   3.2],\n",
              "        [-30.4, -28.8, -31.6, ...,  -7.4,  -3. ,  -3.8],\n",
              "        [-31.4, -30.8, -24.6, ...,   7.6,  13. ,  24.2],\n",
              "        [ 44.6,  42.2,  43.4, ...,  -2.4,  -4. ,  -0.8]],\n",
              "\n",
              "       [[-31.2, -36.2, -39.6, ...,  48.2,  56.6,  63.2],\n",
              "        [  3.8,   7.8,   8.4, ..., -16.8, -22.4, -21.8],\n",
              "        [  6.8,   7.8,   8.4, ..., -20.8, -18.4, -21.8],\n",
              "        [  9.8,   5.8,   9.4, ..., -17.8, -21.4, -20.8],\n",
              "        [ 10.8,  14.8,  13.4, ...,   7.2,   5.6,   1.2]]])"
            ]
          },
          "metadata": {},
          "execution_count": 125
        }
      ],
      "source": [
        "Z"
      ]
    },
    {
      "cell_type": "markdown",
      "metadata": {
        "id": "CQVD8E2uaIgh"
      },
      "source": [
        "Compute class scatter matrices"
      ]
    },
    {
      "cell_type": "code",
      "execution_count": 126,
      "metadata": {
        "id": "rGWadw6raIgh"
      },
      "outputs": [],
      "source": [
        "S = np.zeros((10304,10304))  # Within class scatter matrix\n",
        "for i in range(40):\n",
        "  S += np.matmul(Z[i].T, Z[i])\n",
        "  "
      ]
    },
    {
      "cell_type": "code",
      "execution_count": 127,
      "metadata": {
        "id": "Z4DSktpFaIgh",
        "colab": {
          "base_uri": "https://localhost:8080/"
        },
        "outputId": "556cb580-28a4-4015-d93a-a9ff6b0e9e63"
      },
      "outputs": [
        {
          "output_type": "execute_result",
          "data": {
            "text/plain": [
              "array([[106217.6,  74927.4,  74527.4, ...,  -9157. ,  -2394.4,   3197.6],\n",
              "       [ 74927.4,  96832.8,  95210.2, ...,   6521.8,  14179.8,  18224.8],\n",
              "       [ 74527.4,  95210.2,  95982.8, ...,   7027.8,  15111.6,  18770.8],\n",
              "       ...,\n",
              "       [ -9157. ,   6521.8,   7027.8, ..., 132488.8,  92535.4,  74645. ],\n",
              "       [ -2394.4,  14179.8,  15111.6, ...,  92535.4, 103158.4,  85904.6],\n",
              "       [  3197.6,  18224.8,  18770.8, ...,  74645. ,  85904.6, 104954. ]])"
            ]
          },
          "metadata": {},
          "execution_count": 127
        }
      ],
      "source": [
        "S"
      ]
    },
    {
      "cell_type": "markdown",
      "metadata": {
        "id": "RQLP9DOzaIgi"
      },
      "source": [
        "compute S inverse"
      ]
    },
    {
      "cell_type": "code",
      "execution_count": 128,
      "metadata": {
        "id": "_Ub1X9ocaIgi"
      },
      "outputs": [],
      "source": [
        "S_inverse = np.linalg.inv(S)"
      ]
    },
    {
      "cell_type": "code",
      "execution_count": 129,
      "metadata": {
        "id": "057gx4vHaIgi",
        "colab": {
          "base_uri": "https://localhost:8080/"
        },
        "outputId": "a4e98fef-e6fe-4662-ee55-adf89b4e5c7c"
      },
      "outputs": [
        {
          "output_type": "execute_result",
          "data": {
            "text/plain": [
              "array([[ 5.19237102e+09,  5.39689034e+08,  1.58008607e+09, ...,\n",
              "         3.57070869e+09,  1.48499414e+09,  2.25463619e+09],\n",
              "       [-1.27811072e+10, -2.60845292e+09,  1.44891790e+08, ...,\n",
              "         3.77194052e+08, -1.07565107e+08, -7.08860662e+08],\n",
              "       [ 4.71473202e+07, -1.29163373e+10, -1.46920503e+08, ...,\n",
              "         2.09372766e+09, -1.36474970e+09, -4.05449563e+09],\n",
              "       ...,\n",
              "       [-6.50879543e+08, -6.99396616e+08, -2.57122325e+08, ...,\n",
              "        -7.39508584e+08,  1.74908413e+08, -9.14989028e+08],\n",
              "       [-3.83409904e+09, -7.97516401e+08, -1.65093909e+08, ...,\n",
              "        -2.34698354e+08,  3.24485266e+08, -1.17526057e+09],\n",
              "       [-2.70893060e+09,  6.32671777e+08,  1.42128812e+08, ...,\n",
              "         9.36274577e+06, -2.21236757e+08, -4.52761859e+07]])"
            ]
          },
          "metadata": {},
          "execution_count": 129
        }
      ],
      "source": [
        "S_inverse"
      ]
    },
    {
      "cell_type": "markdown",
      "metadata": {
        "id": "CAOUidDJaIgi"
      },
      "source": [
        "Compute eigenvalues and eigenvectors"
      ]
    },
    {
      "cell_type": "code",
      "execution_count": 130,
      "metadata": {
        "id": "PtpVjCKWaIgi"
      },
      "outputs": [],
      "source": [
        "eigVal, eigVec = np.linalg.eigh((S_inverse @ Sb))"
      ]
    },
    {
      "cell_type": "code",
      "execution_count": 145,
      "metadata": {
        "id": "Fz6wVWdhaIgi",
        "colab": {
          "base_uri": "https://localhost:8080/"
        },
        "outputId": "fe80cfea-ea30-4c39-ce38-691a7077097b"
      },
      "outputs": [
        {
          "output_type": "execute_result",
          "data": {
            "text/plain": [
              "array([-1.17896976e+21, -3.88266495e+20, -2.33506745e+20, ...,\n",
              "        2.35806809e+20,  3.83956485e+20,  1.19359286e+21])"
            ]
          },
          "metadata": {},
          "execution_count": 145
        }
      ],
      "source": [
        "eigVal"
      ]
    },
    {
      "cell_type": "code",
      "execution_count": 146,
      "metadata": {
        "id": "k1UvvBYbaIgi",
        "colab": {
          "base_uri": "https://localhost:8080/"
        },
        "outputId": "f0990937-50ca-4015-e9a2-04fcda22dc6c"
      },
      "outputs": [
        {
          "output_type": "execute_result",
          "data": {
            "text/plain": [
              "array([[ 0.00974609, -0.00984949,  0.00946993, ..., -0.00913698,\n",
              "         0.00973171,  0.00965848],\n",
              "       [ 0.00976635, -0.00991165,  0.00956931, ..., -0.00904203,\n",
              "         0.0096696 ,  0.00963865],\n",
              "       [ 0.00975372, -0.00987281,  0.00950708, ..., -0.00910087,\n",
              "         0.00970817,  0.00965099],\n",
              "       ...,\n",
              "       [ 0.00464252,  0.00454243,  0.0045438 , ...,  0.00473598,\n",
              "         0.00460621, -0.00461278],\n",
              "       [ 0.0166671 ,  0.01628044,  0.01625839, ...,  0.01708715,\n",
              "         0.01659243, -0.01658753],\n",
              "       [ 0.00808721,  0.00790063,  0.00789095, ...,  0.00828783,\n",
              "         0.00804887, -0.00804757]])"
            ]
          },
          "metadata": {},
          "execution_count": 146
        }
      ],
      "source": [
        "eigVec"
      ]
    },
    {
      "cell_type": "markdown",
      "metadata": {
        "id": "8SVpkNCIaIgi"
      },
      "source": [
        "Use 39 dominant eigenvectors instead of just one"
      ]
    },
    {
      "cell_type": "code",
      "execution_count": 147,
      "metadata": {
        "id": "gs395FLHaIgj",
        "colab": {
          "base_uri": "https://localhost:8080/"
        },
        "outputId": "cba54fcc-47ba-4b8b-8250-7b7d9a99232e"
      },
      "outputs": [
        {
          "output_type": "execute_result",
          "data": {
            "text/plain": [
              "array([[-0.01152749,  0.00570585,  0.06014435, ..., -0.00913698,\n",
              "         0.00973171,  0.00965848],\n",
              "       [-0.00968684,  0.00481998,  0.05101178, ..., -0.00904203,\n",
              "         0.0096696 ,  0.00963865],\n",
              "       [-0.01074183,  0.00532894,  0.05626848, ..., -0.00910087,\n",
              "         0.00970817,  0.00965099],\n",
              "       ...,\n",
              "       [ 0.0031519 ,  0.00733425, -0.00076369, ...,  0.00473598,\n",
              "         0.00460621, -0.00461278],\n",
              "       [ 0.01209072,  0.02808181, -0.00291985, ...,  0.01708715,\n",
              "         0.01659243, -0.01658753],\n",
              "       [ 0.00583743,  0.01355981, -0.00141005, ...,  0.00828783,\n",
              "         0.00804887, -0.00804757]])"
            ]
          },
          "metadata": {},
          "execution_count": 147
        }
      ],
      "source": [
        "weights = eigVec[:,-39:]\n",
        "weights"
      ]
    },
    {
      "cell_type": "markdown",
      "metadata": {
        "id": "onZ58v3baIgj"
      },
      "source": [
        "Project the training set, and test sets separately using the same projection matrix U"
      ]
    },
    {
      "cell_type": "code",
      "execution_count": 148,
      "metadata": {
        "id": "C2wOMtGuaIgj"
      },
      "outputs": [],
      "source": [
        "projectedTrain = weights.T @ trainData.T\n",
        "projectedTest = weights.T @ testData.T\n"
      ]
    },
    {
      "cell_type": "code",
      "execution_count": 149,
      "metadata": {
        "id": "MkJehxIJaIgj",
        "colab": {
          "base_uri": "https://localhost:8080/"
        },
        "outputId": "f8d94431-4dc9-466e-8527-b0f6e8b71b0c"
      },
      "outputs": [
        {
          "output_type": "execute_result",
          "data": {
            "text/plain": [
              "(39, 120)"
            ]
          },
          "metadata": {},
          "execution_count": 149
        }
      ],
      "source": [
        "projectedTest.shape"
      ]
    },
    {
      "cell_type": "markdown",
      "metadata": {
        "id": "fSnxPuKyaIgj"
      },
      "source": [
        "Apply KNN"
      ]
    },
    {
      "cell_type": "code",
      "execution_count": 150,
      "metadata": {
        "id": "uI5mGoHTaIgj"
      },
      "outputs": [],
      "source": [
        "result = knn(projectedTrain.T, projectedTest.T, trainLabel, testLabel,1 )"
      ]
    },
    {
      "cell_type": "markdown",
      "metadata": {
        "id": "5ayuZTQJaIgj"
      },
      "source": [
        "Accuracy for the multi class LDA"
      ]
    },
    {
      "cell_type": "code",
      "execution_count": 151,
      "metadata": {
        "id": "FX_PVq1WaIgk",
        "colab": {
          "base_uri": "https://localhost:8080/"
        },
        "outputId": "d315a2de-7bcb-426b-ecf4-2ad43e821745"
      },
      "outputs": [
        {
          "output_type": "stream",
          "name": "stdout",
          "text": [
            "Accuracy: 0.925\n"
          ]
        }
      ],
      "source": [
        "print(\"Accuracy:\", result)"
      ]
    },
    {
      "cell_type": "markdown",
      "metadata": {
        "id": "EMvFA2ABaIgk"
      },
      "source": [
        "Compare the results to PCA results."
      ]
    },
    {
      "cell_type": "code",
      "execution_count": 163,
      "metadata": {
        "id": "0OUltF-RaIgk",
        "colab": {
          "base_uri": "https://localhost:8080/"
        },
        "outputId": "b2208552-af99-4745-8a29-f67576f3fe77"
      },
      "outputs": [
        {
          "output_type": "stream",
          "name": "stdout",
          "text": [
            "PCA Accuracy: 0.95\n",
            "LDA Accuracy: 0.925\n"
          ]
        }
      ],
      "source": [
        "# Compare PCA vs LDA results\n",
        "print(\"PCA Accuracy:\", a3)\n",
        "print(\"LDA Accuracy:\", result)"
      ]
    },
    {
      "cell_type": "markdown",
      "metadata": {
        "id": "Qd0h3RyzaIgk"
      },
      "source": [
        "## Part 6 Classifier Tuning"
      ]
    },
    {
      "cell_type": "markdown",
      "metadata": {
        "id": "rUpFo1EGaIgk"
      },
      "source": [
        "Compare PCA result with different K and alpha"
      ]
    },
    {
      "cell_type": "code",
      "execution_count": 153,
      "metadata": {
        "id": "KxJreiemaIgk"
      },
      "outputs": [],
      "source": [
        "for k in range(1, 8, 2):\n",
        "    for a in alpha:\n",
        "        # print(\"\\n\")\n",
        "        # print(\"alpha =\", a , \"dimensions=\", r)\n",
        "        # print(\"n-neighbors=\", 1)\n",
        "        if a==0.8:\n",
        "            a1=knn(reducedTrain1,reducedTest1,trainLabel, testLabel,k)\n",
        "            accuracies=np.append(accuracies,a1)\n",
        "            # print(\"accuracy:\", a1)\n",
        "        elif a==0.85:\n",
        "            a2=knn(reducedTrain2,reducedTest2,trainLabel, testLabel,k)\n",
        "            accuracies=np.append(accuracies,a2)\n",
        "            # print(\"accuracy:\", a2)\n",
        "        elif a==0.9:\n",
        "            a3=knn(reducedTrain3,reducedTest3,trainLabel, testLabel,k)\n",
        "            accuracies=np.append(accuracies,a3)\n",
        "            # print(\"accuracy:\", a3)\n",
        "        else:\n",
        "            a4=knn(reducedTrain4,reducedTest4,trainLabel, testLabel,k)\n",
        "            accuracies=np.append(accuracies,a4)\n",
        "            # print(\"accuracy:\", a4)"
      ]
    },
    {
      "cell_type": "code",
      "execution_count": 154,
      "metadata": {
        "id": "CR9izBLeaIgl",
        "colab": {
          "base_uri": "https://localhost:8080/",
          "height": 607
        },
        "outputId": "bc8a09e6-05c7-4bdd-f7c6-bacd594609a7"
      },
      "outputs": [
        {
          "output_type": "display_data",
          "data": {
            "text/plain": [
              "<Figure size 1080x720 with 4 Axes>"
            ],
            "image/png": "[encoded data removed]"
          },
          "metadata": {
            "needs_background": "light"
          }
        }
      ],
      "source": [
        "k=np.array([1,3,5,7])\n",
        "figure, axis= plt.subplots(2,2, figsize=(15,10))\n",
        "axis[0, 0].plot(k, accuracies[0:4])\n",
        "axis[0, 0].set_title(\"alpha=0.8\")\n",
        "\n",
        "axis[0, 1].plot(k, accuracies[4:8])\n",
        "axis[0, 1].set_title(\"alpha=0.85\")\n",
        "\n",
        "axis[1, 0].plot(k, accuracies[8:12])\n",
        "axis[1, 0].set_title(\"alpha=0.9\")\n",
        "\n",
        "axis[1, 1].plot(k, accuracies[12:16])\n",
        "axis[1, 1].set_title(\"alpha=0.95\")\n",
        "\n",
        "plt.show()"
      ]
    },
    {
      "cell_type": "code",
      "execution_count": 155,
      "metadata": {
        "id": "w97kxNCnaIgl",
        "colab": {
          "base_uri": "https://localhost:8080/",
          "height": 607
        },
        "outputId": "ce5563e0-48a2-4d0e-dc78-62ac42d67200"
      },
      "outputs": [
        {
          "output_type": "display_data",
          "data": {
            "text/plain": [
              "<Figure size 1080x720 with 4 Axes>"
            ],
            "image/png": "[encoded data removed]"
          },
          "metadata": {
            "needs_background": "light"
          }
        }
      ],
      "source": [
        "figure, axis= plt.subplots(2,2, figsize=(15,10))\n",
        "axis[0, 0].plot(alpha, accuracies[0:16:4])\n",
        "axis[0, 0].set_title(\"k=1\")\n",
        "\n",
        "axis[0, 1].plot(alpha, accuracies[1:16:4])\n",
        "axis[0, 1].set_title(\"k=3\")\n",
        "\n",
        "axis[1, 0].plot(alpha, accuracies[2:16:4])\n",
        "axis[1, 0].set_title(\"k=5\")\n",
        "\n",
        "axis[1, 1].plot(alpha, accuracies[3:16:4])\n",
        "axis[1, 1].set_title(\"k=7\")\n",
        "\n",
        "plt.show()"
      ]
    },
    {
      "cell_type": "markdown",
      "metadata": {
        "id": "MZZArJwyaIgl"
      },
      "source": [
        "Compare LDA results for different K"
      ]
    },
    {
      "cell_type": "code",
      "execution_count": 156,
      "metadata": {
        "id": "_HAiRr-1aIgm"
      },
      "outputs": [],
      "source": [
        "LDAaccuracies = np.array([])\n",
        "kArray=np.array([])\n",
        "for k in range(1, 8, 2):\n",
        "    LDAaccuracies =  np.append(LDAaccuracies, knn(projectedTrain.T, projectedTest.T, trainLabel, testLabel,k ))\n",
        "    kArray= np.append(kArray, k)"
      ]
    },
    {
      "cell_type": "code",
      "execution_count": 157,
      "metadata": {
        "id": "-SPFl4QkaIgm",
        "colab": {
          "base_uri": "https://localhost:8080/",
          "height": 279
        },
        "outputId": "bd95da31-bf95-41cb-d17e-c0fa08499028"
      },
      "outputs": [
        {
          "output_type": "display_data",
          "data": {
            "text/plain": [
              "<Figure size 432x288 with 1 Axes>"
            ],
            "image/png": "[encoded data removed]"
          },
          "metadata": {
            "needs_background": "light"
          }
        }
      ],
      "source": [
        "plt.plot(kArray, LDAaccuracies)\n",
        "plt.xlabel('k')\n",
        "plt.ylabel('accuracy')\n",
        "plt.show()"
      ]
    },
    {
      "cell_type": "code",
      "source": [],
      "metadata": {
        "id": "dLOPQ_ofW0rM"
      },
      "execution_count": null,
      "outputs": []
    }
  ],
  "metadata": {
    "colab": {
      "provenance": []
    },
    "gpuClass": "standard",
    "kernelspec": {
      "display_name": "Python 3",
      "name": "python3"
    },
    "language_info": {
      "codemirror_mode": {
        "name": "ipython",
        "version": 3
      },
      "file_extension": ".py",
      "mimetype": "text/x-python",
      "name": "python",
      "nbconvert_exporter": "python",
      "pygments_lexer": "ipython3",
      "version": "3.8.10"
    }
  },
  "nbformat": 4,
  "nbformat_minor": 0
}