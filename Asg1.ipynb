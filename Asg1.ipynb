{
  "nbformat": 4,
  "nbformat_minor": 0,
  "metadata": {
    "colab": {
      "provenance": []
    },
    "kernelspec": {
      "name": "python3",
      "display_name": "Python 3"
    },
    "language_info": {
      "name": "python"
    }
  },
  "cells": [
    {
      "cell_type": "markdown",
      "source": [
        "Import libraries"
      ],
      "metadata": {
        "id": "Iwr2PNIXKpCF"
      }
    },
    {
      "cell_type": "code",
      "execution_count": 1,
      "metadata": {
        "id": "Dsi-CX23KNpc"
      },
      "outputs": [],
      "source": [
        "import cv2\n",
        "import numpy as np"
      ]
    },
    {
      "cell_type": "markdown",
      "source": [
        "Mount Drive"
      ],
      "metadata": {
        "id": "rDSG662cU97m"
      }
    },
    {
      "cell_type": "code",
      "source": [
        "from google.colab import drive\n",
        "drive.mount('/content/drive')"
      ],
      "metadata": {
        "colab": {
          "base_uri": "https://localhost:8080/"
        },
        "id": "tDWgKcTRMZjW",
        "outputId": "1de7461e-a11f-409c-f365-bf6d5b5e477e"
      },
      "execution_count": 7,
      "outputs": [
        {
          "output_type": "stream",
          "name": "stdout",
          "text": [
            "Drive already mounted at /content/drive; to attempt to forcibly remount, call drive.mount(\"/content/drive\", force_remount=True).\n"
          ]
        }
      ]
    },
    {
      "cell_type": "markdown",
      "source": [
        "Read Images "
      ],
      "metadata": {
        "id": "yCMgGJBfKtYv"
      }
    },
    {
      "cell_type": "code",
      "source": [
        "D = np.array([])\n",
        "y = np.array([])\n",
        "for i in range(1,41):\n",
        "  for j in range(1,11):\n",
        "    img_name = \"/content/drive/MyDrive/faces/s\"+str(i)+\"/\"+str(j)+\".pgm\"\n",
        "    img = cv2.imread(img_name,cv2.IMREAD_GRAYSCALE)\n",
        "    img = img.flatten()\n",
        "    D = np.append(D,img)\n",
        "    y = np.append(y,i)"
      ],
      "metadata": {
        "id": "QaH7xH7iKm1O"
      },
      "execution_count": 3,
      "outputs": []
    },
    {
      "cell_type": "markdown",
      "source": [
        "Split Into Train and Test"
      ],
      "metadata": {
        "id": "v9TqT7f6U0sr"
      }
    },
    {
      "cell_type": "code",
      "source": [
        "testData = np.array([D[i] for i in range(0,400,2)])\n",
        "trainData = np.array([D[i] for i in range(1,400,2)])\n",
        "\n",
        "testLabel = np.array([y[i] for i in range(0,400,2)])\n",
        "trainLabel = np.array([y[i] for i in range(1,400,2)])"
      ],
      "metadata": {
        "id": "nepfGo56LdpX"
      },
      "execution_count": 5,
      "outputs": []
    },
    {
      "cell_type": "code",
      "source": [
        "print(trainData.shape)\n",
        "print(testData.shape)"
      ],
      "metadata": {
        "colab": {
          "base_uri": "https://localhost:8080/"
        },
        "id": "HBys1b6KU2zq",
        "outputId": "4b411b07-aaa5-4f56-f089-d6ffae469aad"
      },
      "execution_count": 6,
      "outputs": [
        {
          "output_type": "stream",
          "name": "stdout",
          "text": [
            "(200,)\n",
            "(200,)\n"
          ]
        }
      ]
    }
  ]
}