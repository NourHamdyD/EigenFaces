{
  "cells": [
    {
      "attachments": {},
      "cell_type": "markdown",
      "metadata": {},
      "source": [
        "Import Libraries"
      ]
    },
    {
      "cell_type": "code",
      "execution_count": 1,
      "metadata": {
        "id": "ANQLJoIhBlz0"
      },
      "outputs": [],
      "source": [
        "import os\n",
        "import cv2\n",
        "# from google.colab.patches import cv2_imshow\n",
        "import numpy as np\n",
        "from numpy import linalg as LA\n",
        "from sklearn.neighbors import KNeighborsClassifier\n",
        "from sklearn import metrics\n",
        "from sklearn.metrics import classification_report, confusion_matrix\n",
        "import matplotlib.pyplot as plt\n",
        "from random import sample\n",
        "import random"
      ]
    },
    {
      "cell_type": "code",
      "execution_count": 143,
      "metadata": {
        "id": "wngmDbUDHdmP"
      },
      "outputs": [
        {
          "ename": "ModuleNotFoundError",
          "evalue": "No module named 'google.colab'",
          "output_type": "error",
          "traceback": [
            "\u001b[0;31m---------------------------------------------------------------------------\u001b[0m",
            "\u001b[0;31mModuleNotFoundError\u001b[0m                       Traceback (most recent call last)",
            "\u001b[1;32m/mnt/nvme0n1p2/Study/Term8/Pattern/Projects/EigenFaces/Untitled2.ipynb Cell 3\u001b[0m in \u001b[0;36m1\n\u001b[0;32m----> <a href='vscode-notebook-cell:/mnt/nvme0n1p2/Study/Term8/Pattern/Projects/EigenFaces/Untitled2.ipynb#W1sZmlsZQ%3D%3D?line=0'>1</a>\u001b[0m \u001b[39mfrom\u001b[39;00m \u001b[39mgoogle\u001b[39;00m\u001b[39m.\u001b[39;00m\u001b[39mcolab\u001b[39;00m \u001b[39mimport\u001b[39;00m drive\n\u001b[1;32m      <a href='vscode-notebook-cell:/mnt/nvme0n1p2/Study/Term8/Pattern/Projects/EigenFaces/Untitled2.ipynb#W1sZmlsZQ%3D%3D?line=1'>2</a>\u001b[0m drive\u001b[39m.\u001b[39mmount(\u001b[39m'\u001b[39m\u001b[39m/content/drive\u001b[39m\u001b[39m'\u001b[39m)\n",
            "\u001b[0;31mModuleNotFoundError\u001b[0m: No module named 'google.colab'"
          ]
        }
      ],
      "source": [
        "# from google.colab import drive\n",
        "# drive.mount('/content/drive')"
      ]
    },
    {
      "attachments": {},
      "cell_type": "markdown",
      "metadata": {},
      "source": [
        "### KNN function"
      ]
    },
    {
      "cell_type": "code",
      "execution_count": 2,
      "metadata": {},
      "outputs": [],
      "source": [
        "def knn(reducedTrainD, reducedTestD, labelsTrain, labelsTest, k ):\n",
        "  c=KNeighborsClassifier(n_neighbors = k)\n",
        "  c.fit(reducedTrainD,labelsTrain)\n",
        "  labelsPred=c.predict(reducedTestD)\n",
        "  accuracy = metrics.accuracy_score(labelsTest, labelsPred)\n",
        "  return accuracy"
      ]
    },
    {
      "attachments": {},
      "cell_type": "markdown",
      "metadata": {},
      "source": [
        "### Function to determine best number of dimensions for threshold"
      ]
    },
    {
      "cell_type": "code",
      "execution_count": 143,
      "metadata": {},
      "outputs": [],
      "source": [
        "def chooseNumDim(eigVal,threshold):\n",
        "    totVar=np.sum(eigVal)\n",
        "    explained,numDim,eigValSum=0, 1, 0\n",
        "    while(explained<=threshold):\n",
        "        eigValSum+=eigVal[numDim-1]\n",
        "        explained=eigValSum/totVar\n",
        "        numDim +=1\n",
        "    return numDim"
      ]
    },
    {
      "attachments": {},
      "cell_type": "markdown",
      "metadata": {},
      "source": [
        "## Part 2 : Generate the Data Matrix and the Label vector"
      ]
    },
    {
      "cell_type": "code",
      "execution_count": 221,
      "metadata": {
        "id": "ixZdWFurHhvL"
      },
      "outputs": [],
      "source": [
        "D = [] # Data matrix\n",
        "y = [] # Labels\n",
        "label = \"Faces\"\n",
        "for i in range(1,41): # 40 people\n",
        "  for j in range(1,11): # 10 images per person\n",
        "    img_name = \"faces/s\"+str(i)+\"/\"+str(j)+\".pgm\" # Image name\n",
        "    img = cv2.imread(img_name,cv2.IMREAD_GRAYSCALE) # Read image\n",
        "    img = img.flatten() # Flatten image\n",
        "    D.append(img) # Add image to data matrix\n",
        "    y.append(label) # Add label to labels\n",
        "D = np.array(D) # Convert to numpy array\n",
        "y = np.array(y) # Convert to numpy array"
      ]
    },
    {
      "cell_type": "code",
      "execution_count": 282,
      "metadata": {},
      "outputs": [
        {
          "name": "stdout",
          "output_type": "stream",
          "text": [
            "(400, 10304)\n",
            "(400,)\n"
          ]
        }
      ],
      "source": [
        "print(D.shape)\n",
        "print(y.shape)"
      ]
    },
    {
      "cell_type": "code",
      "execution_count": 283,
      "metadata": {},
      "outputs": [
        {
          "name": "stdout",
          "output_type": "stream",
          "text": [
            "read 1316 fish images\n"
          ]
        }
      ],
      "source": [
        "f = []\n",
        "yf = []\n",
        "label = \"Fish\"\n",
        "count = 0\n",
        "for filee in os.listdir('fish/'):\n",
        "  img = cv2.imread('fish/'+filee,cv2.IMREAD_GRAYSCALE) # Read image\n",
        "  img = img.flatten() # Flatten image\n",
        "  f.append(img) # Add image to data matrix\n",
        "  yf.append(label) # Add label to labels\n",
        "  count += 1\n",
        "f = np.array(f) # Convert to numpy array\n",
        "yf = np.array(yf) # Convert to numpy array\n",
        "print(\"read \" + str(count) + \" fish images\")"
      ]
    },
    {
      "cell_type": "code",
      "execution_count": 284,
      "metadata": {},
      "outputs": [
        {
          "name": "stdout",
          "output_type": "stream",
          "text": [
            "(1316, 10304)\n",
            "(1316,)\n"
          ]
        }
      ],
      "source": [
        "print(f.shape)\n",
        "print(yf.shape)"
      ]
    },
    {
      "cell_type": "code",
      "execution_count": 285,
      "metadata": {},
      "outputs": [],
      "source": [
        "D1 = np.append(D,f[0:200],axis=0)\n",
        "y1 = np.append(y,yf[0:200],axis=0)\n",
        "\n",
        "D2 = np.append(D,f[0:400],axis=0)\n",
        "y2 = np.append(y,yf[0:400],axis=0)\n",
        "\n",
        "D3 = np.append(D,f[0:600],axis=0)\n",
        "y3 = np.append(y,yf[0:600],axis=0)\n",
        "\n",
        "D4 = np.append(D,f[0:800],axis=0)\n",
        "y4 = np.append(y,yf[0:800],axis=0)\n",
        "\n",
        "D5 = np.append(D,f[0:1000],axis=0)\n",
        "y5 = np.append(y,yf[0:1000],axis=0)\n",
        "\n",
        "D6 = np.append(D,f[0:1200],axis=0)\n",
        "y6 = np.append(y,yf[0:1200],axis=0)"
      ]
    },
    {
      "attachments": {},
      "cell_type": "markdown",
      "metadata": {},
      "source": [
        "## Part 3 : Split the Dataset into Training and Test sets"
      ]
    },
    {
      "cell_type": "code",
      "execution_count": 286,
      "metadata": {
        "id": "P_BP3gXDHkhc"
      },
      "outputs": [],
      "source": [
        "testData1 = np.array([D1[i] for i in range(0,len(D1),2)]) # Test data\n",
        "trainData1 = np.array([D1[i] for i in range(1,len(D1),2)]) # Train data\n",
        "testLabel1 = np.array([y1[i] for i in range(0,len(y1),2)]) # Test labels\n",
        "trainLabel1 = np.array([y1[i] for i in range(1,len(y1),2)]) # Train labels\n",
        "\n",
        "testData2 = np.array([D2[i] for i in range(0,len(D2),2)]) # Test data\n",
        "trainData2 = np.array([D2[i] for i in range(1,len(D2),2)]) # Train data\n",
        "testLabel2 = np.array([y2[i] for i in range(0,len(y2),2)]) # Test labels\n",
        "trainLabel2 = np.array([y2[i] for i in range(1,len(y2),2)]) # Train labels\n",
        "\n",
        "testData3 = np.array([D3[i] for i in range(0,len(D3),2)]) # Test data\n",
        "trainData3 = np.array([D3[i] for i in range(1,len(D3),2)]) # Train data\n",
        "testLabel3 = np.array([y3[i] for i in range(0,len(y3),2)]) # Test labels\n",
        "trainLabel3 = np.array([y3[i] for i in range(1,len(y3),2)]) # Train labels\n",
        "\n",
        "testData4 = np.array([D4[i] for i in range(0,len(D4),2)]) # Test data\n",
        "trainData4 = np.array([D4[i] for i in range(1,len(D4),2)]) # Train data\n",
        "testLabel4 = np.array([y4[i] for i in range(0,len(y4),2)]) # Test labels\n",
        "trainLabel4 = np.array([y4[i] for i in range(1,len(y4),2)]) # Train labels\n",
        "\n",
        "testData5 = np.array([D5[i] for i in range(0,len(D5),2)]) # Test data\n",
        "trainData5 = np.array([D5[i] for i in range(1,len(D5),2)]) # Train data\n",
        "testLabel5 = np.array([y5[i] for i in range(0,len(y5),2)]) # Test labels\n",
        "trainLabel5 = np.array([y5[i] for i in range(1,len(y5),2)]) # Train labels\n",
        "\n",
        "testData6 = np.array([D6[i] for i in range(0,len(D6),2)]) # Test data\n",
        "trainData6 = np.array([D6[i] for i in range(1,len(D6),2)]) # Train data\n",
        "testLabel6 = np.array([y6[i] for i in range(0,len(y6),2)]) # Test labels\n",
        "trainLabel6 = np.array([y6[i] for i in range(1,len(y6),2)]) # Train labels"
      ]
    },
    {
      "cell_type": "code",
      "execution_count": 240,
      "metadata": {
        "id": "1tbDjbH6HnCD"
      },
      "outputs": [
        {
          "name": "stdout",
          "output_type": "stream",
          "text": [
            "(300, 10304)\n",
            "(300, 10304)\n"
          ]
        }
      ],
      "source": [
        "print(trainData1.shape)\n",
        "print(testData1.shape)"
      ]
    },
    {
      "attachments": {},
      "cell_type": "markdown",
      "metadata": {},
      "source": [
        "## Part4 : Classification using PCA"
      ]
    },
    {
      "attachments": {},
      "cell_type": "markdown",
      "metadata": {},
      "source": [
        "Compute Mean"
      ]
    },
    {
      "cell_type": "code",
      "execution_count": 241,
      "metadata": {
        "id": "Ce8j27QQJUIP"
      },
      "outputs": [
        {
          "name": "stdout",
          "output_type": "stream",
          "text": [
            "(10304,)\n",
            "(10304,)\n",
            "(10304,)\n",
            "(10304,)\n",
            "(10304,)\n",
            "(10304,)\n",
            "(10304,)\n",
            "(10304,)\n",
            "(10304,)\n",
            "(10304,)\n",
            "(10304,)\n",
            "(10304,)\n"
          ]
        }
      ],
      "source": [
        "trainMean1 = np.mean(trainData1, axis=0) # Compute Train mean\n",
        "testMean1 = np.mean(testData1, axis=0) # Compute Test mean\n",
        "print(trainMean1.shape)\n",
        "print(testMean1.shape)\n",
        "\n",
        "trainMean2 = np.mean(trainData2, axis=0) # Compute Train mean\n",
        "testMean2 = np.mean(testData2, axis=0) # Compute Test mean\n",
        "print(trainMean2.shape)\n",
        "print(testMean2.shape)\n",
        "\n",
        "trainMean3 = np.mean(trainData3, axis=0) # Compute Train mean\n",
        "testMean3 = np.mean(testData3, axis=0) # Compute Test mean\n",
        "print(trainMean3.shape)\n",
        "print(testMean3.shape)\n",
        "\n",
        "trainMean4 = np.mean(trainData4, axis=0) # Compute Train mean\n",
        "testMean4 = np.mean(testData4, axis=0) # Compute Test mean\n",
        "print(trainMean4.shape)\n",
        "print(testMean4.shape)\n",
        "\n",
        "trainMean5 = np.mean(trainData5, axis=0) # Compute Train mean\n",
        "testMean5 = np.mean(testData5, axis=0) # Compute Test mean\n",
        "print(trainMean5.shape)\n",
        "print(testMean5.shape)\n",
        "\n",
        "trainMean6 = np.mean(trainData6, axis=0) # Compute Train mean\n",
        "testMean6 = np.mean(testData6, axis=0) # Compute Test mean\n",
        "print(trainMean6.shape)\n",
        "print(testMean6.shape)\n"
      ]
    },
    {
      "attachments": {},
      "cell_type": "markdown",
      "metadata": {},
      "source": [
        "Center the Data"
      ]
    },
    {
      "cell_type": "code",
      "execution_count": 242,
      "metadata": {
        "id": "CyQkGECbJUql"
      },
      "outputs": [],
      "source": [
        "trainCenter1= trainData1 - trainMean1 # Center train data\n",
        "testCenter1= testData1 - testMean1 # Center test data\n",
        "\n",
        "trainCenter2= trainData2 - trainMean2 # Center train data\n",
        "testCenter2= testData2 - testMean2 # Center test data\n",
        "\n",
        "trainCenter3= trainData3 - trainMean3 # Center train data\n",
        "testCenter3= testData3 - testMean3 # Center test data\n",
        "\n",
        "trainCenter4= trainData4 - trainMean4 # Center train data\n",
        "testCenter4= testData4 - testMean4 # Center test data\n",
        "\n",
        "trainCenter5= trainData5 - trainMean5 # Center train data\n",
        "testCenter5= testData5 - testMean5 # Center test data\n",
        "\n",
        "trainCenter6= trainData6 - trainMean6 # Center train data\n",
        "testCenter6= testData6 - testMean6 # Center test data\n"
      ]
    },
    {
      "attachments": {},
      "cell_type": "markdown",
      "metadata": {},
      "source": [
        "Compute Covariance Matrix"
      ]
    },
    {
      "cell_type": "code",
      "execution_count": 243,
      "metadata": {
        "id": "D-Iq1aZRJYPZ"
      },
      "outputs": [],
      "source": [
        "cova1=np.cov(trainCenter1, rowvar=False, bias=True) # Compute covariance matrix\n",
        "\n",
        "cova2=np.cov(trainCenter2, rowvar=False, bias=True) # Compute covariance matrix\n",
        "\n",
        "cova3=np.cov(trainCenter3, rowvar=False, bias=True) # Compute covariance matrix\n",
        "\n",
        "cova4=np.cov(trainCenter4, rowvar=False, bias=True) # Compute covariance matrix\n",
        "\n",
        "cova5=np.cov(trainCenter5, rowvar=False, bias=True) # Compute covariance matrix\n",
        "\n",
        "cova6=np.cov(trainCenter6, rowvar=False, bias=True) # Compute covariance matrix"
      ]
    },
    {
      "attachments": {},
      "cell_type": "markdown",
      "metadata": {},
      "source": [
        "Get Eigen vectors and Eigen Values of covariance matrix"
      ]
    },
    {
      "cell_type": "code",
      "execution_count": 244,
      "metadata": {
        "id": "L1UrBfg0JbFu"
      },
      "outputs": [],
      "source": [
        "eigenVal1, eigenVec1 = np.linalg.eigh(cova1) # Compute eigenvalues and eigenvectors\n",
        "indices1 = eigenVal1.argsort()[::-1] # Get the indices that would sort an array in descending order\n",
        "eigenVal1=eigenVal1[indices1] # get eigenvalues in descending order\n",
        "eigenVec1=eigenVec1[:,indices1] # get eigenvectors in descending order\n",
        "\n",
        "eigenVal2, eigenVec2 = np.linalg.eigh(cova2) # Compute eigenvalues and eigenvectors\n",
        "indices2 = eigenVal2.argsort()[::-1] # Get the indices that would sort an array in descending order\n",
        "eigenVal2=eigenVal2[indices2] # get eigenvalues in descending order\n",
        "eigenVec2=eigenVec2[:,indices2] # get eigenvectors in descending order\n",
        "\n",
        "eigenVal3, eigenVec3 = np.linalg.eigh(cova3) # Compute eigenvalues and eigenvectors\n",
        "indices3 = eigenVal3.argsort()[::-1] # Get the indices that would sort an array in descending order\n",
        "eigenVal3=eigenVal3[indices3] # get eigenvalues in descending order\n",
        "eigenVec3=eigenVec3[:,indices3] # get eigenvectors in descending order\n",
        "\n",
        "eigenVal4, eigenVec4 = np.linalg.eigh(cova4) # Compute eigenvalues and eigenvectors\n",
        "indices4 = eigenVal4.argsort()[::-1] # Get the indices that would sort an array in descending order\n",
        "eigenVal4=eigenVal4[indices4] # get eigenvalues in descending order\n",
        "eigenVec4=eigenVec4[:,indices4] # get eigenvectors in descending order\n",
        "\n",
        "eigenVal5, eigenVec5 = np.linalg.eigh(cova5) # Compute eigenvalues and eigenvectors\n",
        "indices5 = eigenVal5.argsort()[::-1] # Get the indices that would sort an array in descending order\n",
        "eigenVal5=eigenVal5[indices5] # get eigenvalues in descending order\n",
        "eigenVec5=eigenVec5[:,indices5] # get eigenvectors in descending order\n",
        "\n",
        "eigenVal6, eigenVec6 = np.linalg.eigh(cova6) # Compute eigenvalues and eigenvectors\n",
        "indices6 = eigenVal6.argsort()[::-1] # Get the indices that would sort an array in descending order\n",
        "eigenVal6=eigenVal6[indices6] # get eigenvalues in descending order\n",
        "eigenVec6=eigenVec6[:,indices6] # get eigenvectors in descending order"
      ]
    },
    {
      "cell_type": "code",
      "execution_count": 247,
      "metadata": {},
      "outputs": [],
      "source": [
        "projTrain1 = np.matmul(trainCenter1, eigenVec1[:,0:2])\n",
        "projTest1 = np.matmul(testCenter1, eigenVec1[:,0:2])\n",
        "result1 = knn(projTrain1, projTest1, trainLabel1, testLabel1, 1)\n",
        "\n",
        "projTrain2 = np.matmul(trainCenter2, eigenVec2[:,0:2])\n",
        "projTest2 = np.matmul(testCenter2, eigenVec2[:,0:2])\n",
        "result2 = knn(projTrain2, projTest2, trainLabel2, testLabel2, 1)\n",
        "\n",
        "projTrain3 = np.matmul(trainCenter3, eigenVec3[:,0:2])\n",
        "projTest3 = np.matmul(testCenter3, eigenVec3[:,0:2])\n",
        "result3 = knn(projTrain3, projTest3, trainLabel3, testLabel3, 1)\n",
        "\n",
        "projTrain4 = np.matmul(trainCenter4, eigenVec4[:,0:2])\n",
        "projTest4 = np.matmul(testCenter4, eigenVec4[:,0:2])\n",
        "result4 = knn(projTrain4, projTest4, trainLabel4, testLabel4, 1)\n",
        "\n",
        "projTrain5 = np.matmul(trainCenter5, eigenVec5[:,0:2])\n",
        "projTest5 = np.matmul(testCenter5, eigenVec5[:,0:2])\n",
        "result5 = knn(projTrain5, projTest5, trainLabel5, testLabel5, 1)\n",
        "\n",
        "projTrain6 = np.matmul(trainCenter6, eigenVec6[:,0:2])\n",
        "projTest6 = np.matmul(testCenter6, eigenVec6[:,0:2])\n",
        "result6 = knn(projTrain6, projTest6, trainLabel6, testLabel6, 1)"
      ]
    },
    {
      "cell_type": "code",
      "execution_count": 249,
      "metadata": {},
      "outputs": [
        {
          "name": "stdout",
          "output_type": "stream",
          "text": [
            "For 1st dataset, the accuracy is:  0.9833333333333333\n",
            "For 2nd dataset, the accuracy is:  0.9625\n",
            "For 3rd dataset, the accuracy is:  0.956\n",
            "For 4th dataset, the accuracy is:  0.9633333333333334\n",
            "For 5th dataset, the accuracy is:  0.9642857142857143\n",
            "For 6th dataset, the accuracy is:  0.97\n"
          ]
        }
      ],
      "source": [
        "print(\"For 1st dataset, the accuracy is: \", result1)\n",
        "print(\"For 2nd dataset, the accuracy is: \", result2)\n",
        "print(\"For 3rd dataset, the accuracy is: \", result3)\n",
        "print(\"For 4th dataset, the accuracy is: \", result4)\n",
        "print(\"For 5th dataset, the accuracy is: \", result5)\n",
        "print(\"For 6th dataset, the accuracy is: \", result6)"
      ]
    },
    {
      "cell_type": "code",
      "execution_count": 253,
      "metadata": {},
      "outputs": [
        {
          "data": {
            "image/png": "[encoded data removed]",
            "text/plain": [
              "<Figure size 640x480 with 1 Axes>"
            ]
          },
          "metadata": {},
          "output_type": "display_data"
        }
      ],
      "source": [
        "accuracies = [result1, result2, result3, result4, result5, result6]\n",
        "fishSamples = [200, 400, 600, 800, 1000, 1200]\n",
        "plt.plot(fishSamples, accuracies)\n",
        "plt.xlabel(\"Number of samples\")\n",
        "plt.ylabel(\"Accuracy\")\n",
        "plt.show()"
      ]
    },
    {
      "cell_type": "code",
      "execution_count": 255,
      "metadata": {},
      "outputs": [],
      "source": [
        "# get failure casses for the first eigenvector\n",
        "c=KNeighborsClassifier(n_neighbors = 1)\n",
        "c.fit(projTrain1,trainLabel1)\n",
        "labelsPred=c.predict(projTest1)\n",
        "# get the indices of the failure cases\n",
        "fail1 = np.where(labelsPred != testLabel1)[0]\n",
        "\n",
        "c.fit(projTrain2,trainLabel2)\n",
        "labelsPred=c.predict(projTest2)\n",
        "# get the indices of the failure cases\n",
        "fail2 = np.where(labelsPred != testLabel2)[0]\n",
        "\n",
        "c.fit(projTrain3,trainLabel3)\n",
        "labelsPred=c.predict(projTest3)\n",
        "# get the indices of the failure cases\n",
        "fail3 = np.where(labelsPred != testLabel3)[0]\n",
        "\n",
        "c.fit(projTrain4,trainLabel4)\n",
        "labelsPred=c.predict(projTest4)\n",
        "# get the indices of the failure cases\n",
        "fail4 = np.where(labelsPred != testLabel4)[0]\n",
        "\n",
        "c.fit(projTrain5,trainLabel5)\n",
        "labelsPred=c.predict(projTest5)\n",
        "# get the indices of the failure cases\n",
        "fail5 = np.where(labelsPred != testLabel5)[0]\n",
        "\n",
        "c.fit(projTrain6,trainLabel6)\n",
        "labelsPred=c.predict(projTest6)\n",
        "# get the indices of the failure cases\n",
        "fail6 = np.where(labelsPred != testLabel6)[0]"
      ]
    },
    {
      "cell_type": "code",
      "execution_count": 257,
      "metadata": {},
      "outputs": [
        {
          "name": "stdout",
          "output_type": "stream",
          "text": [
            "[  4 202 203 244 262]\n",
            "[  2   4 155 199 202 203 244 297 302 305 315 325 338 390 399]\n",
            "[  1   2   4  61  91 128 155 157 174 175 203 244 325 326 390 398 399 401\n",
            " 480 485 487 492]\n",
            "[  2   3   4  29  64  91 155 203 222 232 244 275 399 401 485 487 492 508\n",
            " 543 548 553 563]\n",
            "[  2   4  63  91 152 155 167 168 203 222 244 275 302 345 480 485 487 523\n",
            " 539 543 588 621 625 626 644]\n",
            "[  2   4  29  61  63 122 152 155 167 172 203 244 485 487 588 607 625 626\n",
            " 644 728 781 792 795 797]\n"
          ]
        }
      ],
      "source": [
        "print(fail1)\n",
        "print(fail2)\n",
        "print(fail3)\n",
        "print(fail4)\n",
        "print(fail5)\n",
        "print(fail6)"
      ]
    },
    {
      "cell_type": "code",
      "execution_count": 259,
      "metadata": {},
      "outputs": [
        {
          "data": {
            "image/png": "[encoded data removed]",
            "text/plain": [
              "<Figure size 640x480 with 1 Axes>"
            ]
          },
          "metadata": {},
          "output_type": "display_data"
        },
        {
          "data": {
            "image/png": "[encoded data removed]",
            "text/plain": [
              "<Figure size 640x480 with 1 Axes>"
            ]
          },
          "metadata": {},
          "output_type": "display_data"
        },
        {
          "data": {
            "image/png": "[encoded data removed]",
            "text/plain": [
              "<Figure size 640x480 with 1 Axes>"
            ]
          },
          "metadata": {},
          "output_type": "display_data"
        }
      ],
      "source": [
        "plt.imshow((eigenVec1[:,0] + eigenVec1[:,1]).reshape(112,92), cmap='gray')\n",
        "plt.show()\n",
        "plt.imshow(testCenter1[4].reshape(112,92), cmap='gray') # 4 is the index of failed image\n",
        "plt.show()\n",
        "plt.imshow(testCenter1[3].reshape(112,92), cmap='gray') # 3 is the index of success image\n",
        "plt.show()\n"
      ]
    },
    {
      "attachments": {},
      "cell_type": "markdown",
      "metadata": {
        "id": "rYXyOS7h-mlG"
      },
      "source": [
        "## Classification Using LDA"
      ]
    },
    {
      "attachments": {},
      "cell_type": "markdown",
      "metadata": {},
      "source": [
        "Calculate the mean vector for every class Mu1, Mu2, ..., Mu40\n"
      ]
    },
    {
      "cell_type": "code",
      "execution_count": 287,
      "metadata": {},
      "outputs": [],
      "source": [
        "Mu1 = np.zeros((2,10304)) \n",
        "for i in range(2): \n",
        "  Mu1[i] = np.mean(trainData1[i*200:], axis=0) \n",
        "  \n",
        "\n",
        "Mu2 = np.zeros((2,10304)) \n",
        "for i in range(2): \n",
        "  Mu2[i] = np.mean(trainData2[i*200:], axis=0) \n",
        "\n",
        "Mu3 = np.zeros((2,10304)) \n",
        "for i in range(2): \n",
        "  Mu3[i] = np.mean(trainData3[i*200:], axis=0) \n",
        "  \n",
        "Mu4 = np.zeros((2,10304)) \n",
        "for i in range(2): \n",
        "  Mu4[i] = np.mean(trainData4[i*200:], axis=0) \n",
        "  \n",
        "Mu5 = np.zeros((2,10304)) \n",
        "for i in range(2): \n",
        "  Mu5[i] = np.mean(trainData5[i*200:], axis=0) \n",
        "  \n",
        "Mu6 = np.zeros((2,10304)) \n",
        "for i in range(2): \n",
        "  Mu6[i] = np.mean(trainData6[i*200:], axis=0)"
      ]
    },
    {
      "cell_type": "code",
      "execution_count": 288,
      "metadata": {},
      "outputs": [
        {
          "name": "stdout",
          "output_type": "stream",
          "text": [
            "(2, 10304)\n",
            "(2, 10304)\n",
            "(2, 10304)\n",
            "(2, 10304)\n",
            "(2, 10304)\n",
            "(2, 10304)\n"
          ]
        }
      ],
      "source": [
        "print(Mu1.shape)\n",
        "print(Mu2.shape)\n",
        "print(Mu3.shape)\n",
        "print(Mu4.shape)\n",
        "print(Mu5.shape)\n",
        "print(Mu6.shape)"
      ]
    },
    {
      "attachments": {},
      "cell_type": "markdown",
      "metadata": {},
      "source": [
        "Generate class specific subsets\n"
      ]
    },
    {
      "cell_type": "code",
      "execution_count": 275,
      "metadata": {},
      "outputs": [
        {
          "data": {
            "text/plain": [
              "(300, 10304)"
            ]
          },
          "execution_count": 275,
          "metadata": {},
          "output_type": "execute_result"
        }
      ],
      "source": [
        "trainData1.shape"
      ]
    },
    {
      "cell_type": "code",
      "execution_count": 279,
      "metadata": {},
      "outputs": [
        {
          "ename": "ValueError",
          "evalue": "negative dimensions are not allowed",
          "output_type": "error",
          "traceback": [
            "\u001b[0;31m---------------------------------------------------------------------------\u001b[0m",
            "\u001b[0;31mValueError\u001b[0m                                Traceback (most recent call last)",
            "\u001b[1;32m/mnt/nvme0n1p2/Study/Term8/Pattern/Projects/EigenFaces/faces_vs_non.ipynb Cell 38\u001b[0m in \u001b[0;36m1\n\u001b[0;32m----> <a href='vscode-notebook-cell:/mnt/nvme0n1p2/Study/Term8/Pattern/Projects/EigenFaces/faces_vs_non.ipynb#X52sZmlsZQ%3D%3D?line=0'>1</a>\u001b[0m D1 \u001b[39m=\u001b[39m np\u001b[39m.\u001b[39mzeros((\u001b[39m2\u001b[39m,\u001b[39m-\u001b[39m\u001b[39m1\u001b[39m,\u001b[39m10304\u001b[39m))\n\u001b[1;32m      <a href='vscode-notebook-cell:/mnt/nvme0n1p2/Study/Term8/Pattern/Projects/EigenFaces/faces_vs_non.ipynb#X52sZmlsZQ%3D%3D?line=1'>2</a>\u001b[0m D1[\u001b[39m0\u001b[39m] \u001b[39m=\u001b[39m trainData1[\u001b[39m0\u001b[39m:\u001b[39m200\u001b[39m]\n\u001b[1;32m      <a href='vscode-notebook-cell:/mnt/nvme0n1p2/Study/Term8/Pattern/Projects/EigenFaces/faces_vs_non.ipynb#X52sZmlsZQ%3D%3D?line=2'>3</a>\u001b[0m D1[\u001b[39m2\u001b[39m] \u001b[39m=\u001b[39m trainData1[\u001b[39m200\u001b[39m:]\n",
            "\u001b[0;31mValueError\u001b[0m: negative dimensions are not allowed"
          ]
        }
      ],
      "source": [
        "D1 = np.zeros((1,200,10304), (1,100,10304))\n",
        "D1[0] = trainData1[0:200]\n",
        "D1[2] = trainData1[200:]\n",
        "# for i in range(2):\n",
        "#   D1[i] = trainData1[i*200:]\n",
        "  \n",
        "D2 = np.zeros((2,500,10304))\n",
        "for i in range(2):\n",
        "  D2[i] = trainData2[i*200:i*200+200]\n",
        "  \n",
        "D3 = np.zeros((2,700,10304))\n",
        "for i in range(2):\n",
        "  D3[i] = trainData3[i*200:i*200+200]\n",
        "  \n",
        "D4 = np.zeros((2,900,10304))\n",
        "for i in range(2):\n",
        "  D4[i] = trainData4[i*200:i*200+200]\n",
        "  \n",
        "D5 = np.zeros((2,1100,10304))\n",
        "for i in range(2):\n",
        "  D5[i] = trainData5[i*200:i*200+200]\n",
        "  \n",
        "D6 = np.zeros((2,1300,10304))\n",
        "for i in range(2):\n",
        "  D6[i] = trainData6[i*200:i*200+200]"
      ]
    },
    {
      "cell_type": "code",
      "execution_count": 208,
      "metadata": {},
      "outputs": [
        {
          "data": {
            "text/plain": [
              "array([[[ 60.,  60.,  62., ...,  32.,  34.,  34.],\n",
              "        [ 63.,  53.,  35., ...,  41.,  10.,  24.],\n",
              "        [ 43.,  50.,  41., ..., 158., 153., 169.],\n",
              "        ...,\n",
              "        [123., 121., 126., ...,  40.,  35.,  42.],\n",
              "        [125., 119., 124., ...,  36.,  39.,  40.],\n",
              "        [125., 124., 124., ...,  36.,  35.,  34.]],\n",
              "\n",
              "       [[ 66.,  71.,  64., ...,  35.,  40.,  37.],\n",
              "        [ 95., 104.,  97., ...,  20.,  32.,  86.],\n",
              "        [ 49.,  47.,  49., ..., 128., 123., 121.],\n",
              "        ...,\n",
              "        [ 36.,  36.,  33., ...,  49.,  44.,  50.],\n",
              "        [ 35.,  31.,  34., ..., 128., 125., 121.],\n",
              "        [ 56.,  64.,  61., ..., 127., 141., 145.]]])"
            ]
          },
          "execution_count": 208,
          "metadata": {},
          "output_type": "execute_result"
        }
      ],
      "source": [
        "D"
      ]
    },
    {
      "attachments": {},
      "cell_type": "markdown",
      "metadata": {},
      "source": [
        "Mean Vector for every class"
      ]
    },
    {
      "cell_type": "code",
      "execution_count": 304,
      "metadata": {},
      "outputs": [],
      "source": [
        "μ1 = np.mean(D1[0:200], axis=0)\n",
        "μ2 = np.mean(D1[200:], axis=0)"
      ]
    },
    {
      "cell_type": "code",
      "execution_count": 305,
      "metadata": {},
      "outputs": [
        {
          "data": {
            "text/plain": [
              "(10304,)"
            ]
          },
          "execution_count": 305,
          "metadata": {},
          "output_type": "execute_result"
        }
      ],
      "source": [
        "μ1.shape"
      ]
    },
    {
      "attachments": {},
      "cell_type": "markdown",
      "metadata": {},
      "source": [
        "Calculate the between class metrices"
      ]
    },
    {
      "cell_type": "code",
      "execution_count": 306,
      "metadata": {},
      "outputs": [],
      "source": [
        "# compute between class scatter matrix\n",
        "B = np.zeros((10304,10304))\n",
        "B += np.matmul((μ1 - μ2).reshape(10304,1), (μ1 - μ2).reshape(1,10304))"
      ]
    },
    {
      "cell_type": "code",
      "execution_count": 310,
      "metadata": {},
      "outputs": [],
      "source": [
        "# center data around the mean\n",
        "Z1 = D1[0:200] - μ1\n",
        "Z2 = D1[200:] - μ2"
      ]
    },
    {
      "cell_type": "code",
      "execution_count": 313,
      "metadata": {},
      "outputs": [],
      "source": [
        "# class scatter matrix\n",
        "S1 = np.matmul(Z1.T, Z1)\n",
        "S2 = np.matmul(Z2.T, Z2)"
      ]
    },
    {
      "cell_type": "code",
      "execution_count": 314,
      "metadata": {},
      "outputs": [],
      "source": [
        "# within class scatter matrix\n",
        "S = S1 + S2"
      ]
    },
    {
      "cell_type": "code",
      "execution_count": 315,
      "metadata": {},
      "outputs": [],
      "source": [
        "# inverse of within class scatter matrix\n",
        "S_inv = np.linalg.inv(S)"
      ]
    },
    {
      "attachments": {},
      "cell_type": "markdown",
      "metadata": {},
      "source": [
        "Compute eigenvalues and eigenvectors"
      ]
    },
    {
      "cell_type": "code",
      "execution_count": 316,
      "metadata": {},
      "outputs": [
        {
          "ename": "",
          "evalue": "",
          "output_type": "error",
          "traceback": [
            "\u001b[1;31mCanceled future for execute_request message before replies were done"
          ]
        },
        {
          "ename": "",
          "evalue": "",
          "output_type": "error",
          "traceback": [
            "\u001b[1;31mThe Kernel crashed while executing code in the the current cell or a previous cell. Please review the code in the cell(s) to identify a possible cause of the failure. Click <a href='https://aka.ms/vscodeJupyterKernelCrash'>here</a> for more info. View Jupyter <a href='command:jupyter.viewOutput'>log</a> for further details."
          ]
        }
      ],
      "source": [
        "eigVal1, eigVec1 = np.linalg.eig(S_inv @ B)"
      ]
    },
    {
      "cell_type": "code",
      "execution_count": 167,
      "metadata": {},
      "outputs": [
        {
          "data": {
            "text/plain": [
              "array([-8.77619786e+18, -2.90795892e+18, -1.71200394e+18, ...,\n",
              "        1.70783305e+18,  2.91729404e+18,  8.75898328e+18])"
            ]
          },
          "execution_count": 167,
          "metadata": {},
          "output_type": "execute_result"
        }
      ],
      "source": [
        "eigVal1"
      ]
    },
    {
      "cell_type": "code",
      "execution_count": 168,
      "metadata": {},
      "outputs": [
        {
          "data": {
            "text/plain": [
              "array([[ 0.00974221,  0.01044996, -0.01080743, ...,  0.01098917,\n",
              "        -0.01037423,  0.00978335],\n",
              "       [ 0.00973394,  0.01042317, -0.01076036, ...,  0.01103715,\n",
              "        -0.01040075,  0.00979168],\n",
              "       [ 0.00974933,  0.01047297, -0.01084778, ...,  0.01094766,\n",
              "        -0.01035133,  0.00977617],\n",
              "       ...,\n",
              "       [ 0.00949268, -0.00875858, -0.00915237, ..., -0.00919867,\n",
              "        -0.00888338, -0.00950787],\n",
              "       [ 0.00123325, -0.00113888, -0.00119118, ..., -0.00119185,\n",
              "        -0.00115207, -0.00123414],\n",
              "       [ 0.00622489, -0.00574408, -0.00600296, ..., -0.00603027,\n",
              "        -0.00582419, -0.00623424]])"
            ]
          },
          "execution_count": 168,
          "metadata": {},
          "output_type": "execute_result"
        }
      ],
      "source": [
        "eigVec1"
      ]
    },
    {
      "attachments": {},
      "cell_type": "markdown",
      "metadata": {},
      "source": [
        "Use 39 dominant eigenvectors instead of just one"
      ]
    },
    {
      "cell_type": "code",
      "execution_count": 183,
      "metadata": {},
      "outputs": [
        {
          "ename": "IndexError",
          "evalue": "index 35386927 is out of bounds for axis 1 with size 10304",
          "output_type": "error",
          "traceback": [
            "\u001b[0;31m---------------------------------------------------------------------------\u001b[0m",
            "\u001b[0;31mIndexError\u001b[0m                                Traceback (most recent call last)",
            "\u001b[1;32m/mnt/nvme0n1p2/Study/Term8/Pattern/Projects/EigenFaces/faces_vs_non.ipynb Cell 61\u001b[0m in \u001b[0;36m1\n\u001b[0;32m----> <a href='vscode-notebook-cell:/mnt/nvme0n1p2/Study/Term8/Pattern/Projects/EigenFaces/faces_vs_non.ipynb#Y113sZmlsZQ%3D%3D?line=0'>1</a>\u001b[0m weights \u001b[39m=\u001b[39m eigVec[:,eigVec\u001b[39m.\u001b[39margmax()]\n\u001b[1;32m      <a href='vscode-notebook-cell:/mnt/nvme0n1p2/Study/Term8/Pattern/Projects/EigenFaces/faces_vs_non.ipynb#Y113sZmlsZQ%3D%3D?line=1'>2</a>\u001b[0m weights\n",
            "\u001b[0;31mIndexError\u001b[0m: index 35386927 is out of bounds for axis 1 with size 10304"
          ]
        }
      ],
      "source": [
        "weights = eigVec[:,eigVec.argmax()]\n",
        "weights"
      ]
    },
    {
      "attachments": {},
      "cell_type": "markdown",
      "metadata": {},
      "source": [
        "Apply KNN"
      ]
    },
    {
      "cell_type": "code",
      "execution_count": 180,
      "metadata": {},
      "outputs": [],
      "source": [
        "result = knn(projectedTrain.T, projectedTest.T, trainLabel, testLabel,1 )"
      ]
    },
    {
      "attachments": {},
      "cell_type": "markdown",
      "metadata": {},
      "source": [
        "Accuracy for the multi class LDA"
      ]
    },
    {
      "cell_type": "code",
      "execution_count": 181,
      "metadata": {},
      "outputs": [
        {
          "name": "stdout",
          "output_type": "stream",
          "text": [
            "Accuracy: 0.9375\n"
          ]
        }
      ],
      "source": [
        "print(\"Accuracy:\", result)"
      ]
    },
    {
      "attachments": {},
      "cell_type": "markdown",
      "metadata": {},
      "source": [
        "Compare the results to PCA results."
      ]
    },
    {
      "cell_type": "code",
      "execution_count": 207,
      "metadata": {},
      "outputs": [
        {
          "name": "stdout",
          "output_type": "stream",
          "text": [
            "PCA Accuracy: 0.94\n",
            "LDA Accuracy: 0.945\n"
          ]
        }
      ],
      "source": [
        "# Compare PCA vs LDA results\n",
        "print(\"PCA Accuracy:\", a3)\n",
        "print(\"LDA Accuracy:\", result)"
      ]
    }
  ],
  "metadata": {
    "accelerator": "GPU",
    "colab": {
      "private_outputs": true,
      "provenance": []
    },
    "gpuClass": "standard",
    "kernelspec": {
      "display_name": "Python 3",
      "name": "python3"
    },
    "language_info": {
      "codemirror_mode": {
        "name": "ipython",
        "version": 3
      },
      "file_extension": ".py",
      "mimetype": "text/x-python",
      "name": "python",
      "nbconvert_exporter": "python",
      "pygments_lexer": "ipython3",
      "version": "3.8.10"
    }
  },
  "nbformat": 4,
  "nbformat_minor": 0
}
