{
  "cells": [
    {
      "cell_type": "markdown",
      "metadata": {
        "id": "VSH31UKTaIgQ"
      },
      "source": [
        "Import Libraries"
      ]
    },
    {
      "cell_type": "code",
      "execution_count": 41,
      "metadata": {
        "id": "ANQLJoIhBlz0"
      },
      "outputs": [],
      "source": [
        "import os\n",
        "import cv2\n",
        "# from google.colab.patches import cv2_imshow\n",
        "import numpy as np\n",
        "from numpy import linalg as LA\n",
        "from sklearn.neighbors import KNeighborsClassifier\n",
        "from sklearn import metrics\n",
        "from sklearn.metrics import classification_report, confusion_matrix\n",
        "import matplotlib.pyplot as plt\n",
        "from random import sample\n",
        "import random\n",
        "from sklearn.decomposition import KernelPCA\n",
        "from sklearn.discriminant_analysis import LinearDiscriminantAnalysis\n",
        "import time"
      ]
    },
    {
      "cell_type": "code",
      "execution_count": 2,
      "metadata": {
        "id": "wngmDbUDHdmP",
        "colab": {
          "base_uri": "https://localhost:8080/"
        },
        "outputId": "044067b3-c084-48dc-cd0c-24c6115a0edc"
      },
      "outputs": [
        {
          "output_type": "stream",
          "name": "stdout",
          "text": [
            "Mounted at /content/drive\n"
          ]
        }
      ],
      "source": [
        "from google.colab import drive\n",
        "drive.mount('/content/drive')"
      ]
    },
    {
      "cell_type": "markdown",
      "metadata": {
        "id": "9Czd4uIwaIgW"
      },
      "source": [
        "### KNN function"
      ]
    },
    {
      "cell_type": "code",
      "execution_count": 3,
      "metadata": {
        "id": "WbEsPvmLaIgW"
      },
      "outputs": [],
      "source": [
        "def knn(reducedTrainD, reducedTestD, labelsTrain, labelsTest, k ):\n",
        "  c=KNeighborsClassifier(n_neighbors = k)\n",
        "  c.fit(reducedTrainD,labelsTrain)\n",
        "  labelsPred=c.predict(reducedTestD)\n",
        "  accuracy = metrics.accuracy_score(labelsTest, labelsPred)\n",
        "  return accuracy"
      ]
    },
    {
      "cell_type": "markdown",
      "metadata": {
        "id": "fzbTw6_5aIgW"
      },
      "source": [
        "## Part 2 : Generate the Data Matrix and the Label vector"
      ]
    },
    {
      "cell_type": "code",
      "execution_count": 4,
      "metadata": {
        "id": "ixZdWFurHhvL"
      },
      "outputs": [],
      "source": [
        "D = [] # Data matrix\n",
        "y = [] # Labels\n",
        "for i in range(1,41): # 40 people\n",
        "  for j in range(1,11): # 10 images per person\n",
        "    img_name = \"/content/drive/MyDrive/faces/s\"+str(i)+\"/\"+str(j)+\".pgm\" # Image name\n",
        "    img = cv2.imread(img_name,cv2.IMREAD_GRAYSCALE) # Read image\n",
        "    img = img.flatten() # Flatten image\n",
        "    D.append(img) # Add image to data matrix\n",
        "    y.append(i) # Add label to labels\n",
        "D = np.array(D) # Convert to numpy array\n",
        "y = np.array(y) # Convert to numpy array"
      ]
    },
    {
      "cell_type": "markdown",
      "metadata": {
        "id": "WxV_I9PKaIgX"
      },
      "source": [
        "## Part 3 : Split the Dataset into Training and Test sets"
      ]
    },
    {
      "cell_type": "code",
      "source": [
        "testData = np.array([D[i] for i in range(0,400,2)]) # Test data\n",
        "trainData = np.array([D[i] for i in range(1,400,2)]) # Train data\n",
        "\n",
        "testLabel = np.array([y[i] for i in range(0,400,2)]) # Test labels\n",
        "trainLabel = np.array([y[i] for i in range(1,400,2)]) # Train labels"
      ],
      "metadata": {
        "id": "iQaYMnOFIo81"
      },
      "execution_count": 5,
      "outputs": []
    },
    {
      "cell_type": "code",
      "execution_count": 6,
      "metadata": {
        "id": "1tbDjbH6HnCD",
        "colab": {
          "base_uri": "https://localhost:8080/"
        },
        "outputId": "665a2f9f-c39c-44e9-d2e0-71d2553c789f"
      },
      "outputs": [
        {
          "output_type": "stream",
          "name": "stdout",
          "text": [
            "(200, 10304)\n",
            "(200, 10304)\n"
          ]
        }
      ],
      "source": [
        "print(trainData.shape)\n",
        "print(testData.shape)"
      ]
    },
    {
      "cell_type": "markdown",
      "source": [
        "#Part 4: Classification using PCA"
      ],
      "metadata": {
        "id": "0usv80EnA-Oo"
      }
    },
    {
      "cell_type": "markdown",
      "source": [
        "compute mean"
      ],
      "metadata": {
        "id": "pj4XmkYsBHAs"
      }
    },
    {
      "cell_type": "code",
      "execution_count": 12,
      "metadata": {
        "id": "Ce8j27QQJUIP"
      },
      "outputs": [],
      "source": [
        "st1=time.time()\n",
        "trainMean = np.mean(trainData, axis=0) # Compute Train mean\n",
        "testMean= np.mean(testData, axis=0) # Compute Test mean\n",
        "end1=time.time()"
      ]
    },
    {
      "cell_type": "code",
      "source": [
        "run1=end1-st1"
      ],
      "metadata": {
        "id": "H7H-qeUBHhHY"
      },
      "execution_count": 13,
      "outputs": []
    },
    {
      "cell_type": "markdown",
      "metadata": {
        "id": "gSlvPEhaaIga"
      },
      "source": [
        "Center the Data"
      ]
    },
    {
      "cell_type": "code",
      "execution_count": 14,
      "metadata": {
        "id": "CyQkGECbJUql"
      },
      "outputs": [],
      "source": [
        "st2=time.time()\n",
        "trainCenter= trainData - trainMean # Center train data\n",
        "testCenter= testData- testMean # Center test data\n",
        "end2=time.time()"
      ]
    },
    {
      "cell_type": "code",
      "source": [
        "run2=end2-st2"
      ],
      "metadata": {
        "id": "5npyB3IPHxuS"
      },
      "execution_count": 15,
      "outputs": []
    },
    {
      "cell_type": "markdown",
      "metadata": {
        "id": "5TAzap1GaIgb"
      },
      "source": [
        "Compute Covariance Matrix"
      ]
    },
    {
      "cell_type": "code",
      "execution_count": 16,
      "metadata": {
        "id": "D-Iq1aZRJYPZ"
      },
      "outputs": [],
      "source": [
        "st3=time.time()\n",
        "cova=np.cov(trainCenter, rowvar=False, bias=True) # Compute covariance matrix\n",
        "end3=time.time()"
      ]
    },
    {
      "cell_type": "code",
      "source": [
        "run3=end3-st3"
      ],
      "metadata": {
        "id": "0uVhrx5TH9iV"
      },
      "execution_count": 17,
      "outputs": []
    },
    {
      "cell_type": "markdown",
      "metadata": {
        "id": "q5h6X9lyaIgb"
      },
      "source": [
        "Get Eigen vectors and Eigen Values of covariance matrix"
      ]
    },
    {
      "cell_type": "code",
      "execution_count": 18,
      "metadata": {
        "id": "L1UrBfg0JbFu",
        "colab": {
          "base_uri": "https://localhost:8080/"
        },
        "outputId": "8c8db0c9-66f6-4307-fe87-deb5af2a36c4"
      },
      "outputs": [
        {
          "output_type": "stream",
          "name": "stdout",
          "text": [
            "[ 2.76913438e+06  2.14583158e+06  1.06497557e+06 ... -1.04389089e-09\n",
            " -1.49625428e-09 -1.89389774e-09]\n",
            "\n",
            "\n",
            "[[ 0.00137559 -0.01038075 -0.01557967 ...  0.          0.\n",
            "   0.        ]\n",
            " [ 0.0012908  -0.01510292 -0.01906547 ...  0.11103299  0.14232354\n",
            "  -0.35438565]\n",
            " [ 0.00151768 -0.01517555 -0.01899798 ...  0.04343785 -0.28419215\n",
            "   0.53742984]\n",
            " ...\n",
            " [ 0.00874152  0.00954999 -0.01296274 ... -0.02061136 -0.02074192\n",
            "   0.0178128 ]\n",
            " [ 0.0072042   0.00769078 -0.01386214 ... -0.01111982  0.0152232\n",
            "   0.00250571]\n",
            " [ 0.00844687  0.0068302  -0.01451087 ...  0.01159439  0.01729143\n",
            "  -0.01306936]]\n"
          ]
        }
      ],
      "source": [
        "st4=time.time()\n",
        "eigenVal, eigenVec = np.linalg.eigh(cova) # Compute eigenvalues and eigenvectors\n",
        "indices = eigenVal.argsort()[::-1] # Get the indices that would sort an array in descending order\n",
        "eigenVal=eigenVal[indices] # get eigenvalues in descending order\n",
        "eigenVec=eigenVec[:,indices] # get eigenvectors in descending order\n",
        "print(eigenVal)\n",
        "print(\"\\n\")\n",
        "print(eigenVec)\n",
        "eigenVec.shape\n",
        "end4=time.time()"
      ]
    },
    {
      "cell_type": "code",
      "source": [
        "run4=end4-st4"
      ],
      "metadata": {
        "id": "ZDbUBJElIM8s"
      },
      "execution_count": 19,
      "outputs": []
    },
    {
      "cell_type": "markdown",
      "metadata": {
        "id": "t3zFcDyKaIgc"
      },
      "source": [
        "Project the training set, and test sets separately for differenet alpha"
      ]
    },
    {
      "cell_type": "code",
      "execution_count": 31,
      "metadata": {
        "id": "Q0Jfyrg1Jd7G"
      },
      "outputs": [],
      "source": [
        "st5=time.time()\n",
        "alpha=np.array([0.8,0.85,0.9,0.95])\n",
        "accuracies=np.array([])\n",
        "totval= np.sum(eigenVal)\n",
        "explained=0\n",
        "for a in alpha:\n",
        "  r=0\n",
        "  sum=0\n",
        "  while explained <= a:\n",
        "    sum = sum+eigenVal[r]\n",
        "    explained=sum/totval\n",
        "    r=r+1\n",
        "  \n",
        "  if a==0.8:\n",
        "    p1=eigenVec[:,:r]\n",
        "    reducedTrain1=np.dot(trainCenter, p1)\n",
        "    reducedTest1=np.dot(testCenter, p1)\n",
        "    r1=r\n",
        "  elif a==0.85:\n",
        "    p2=eigenVec[:,:r]\n",
        "    reducedTrain2=np.dot(trainCenter, p2)\n",
        "    reducedTest2=np.dot(testCenter, p2)\n",
        "    r2=r\n",
        "  elif a==0.9:\n",
        "    p3=eigenVec[:,:r]\n",
        "    reducedTrain3=np.dot(trainCenter, p3)\n",
        "    reducedTest3=np.dot(testCenter, p3)\n",
        "    r3=r\n",
        "  else:\n",
        "    p4=eigenVec[:,:r]\n",
        "    reducedTrain4=np.dot(trainCenter, p4)\n",
        "    reducedTest4=np.dot(testCenter, p4)\n",
        "    r4=r\n",
        "end5=time.time()"
      ]
    },
    {
      "cell_type": "code",
      "source": [
        "run5=end5-st5"
      ],
      "metadata": {
        "id": "Vz68LTGnJofe"
      },
      "execution_count": 32,
      "outputs": []
    },
    {
      "cell_type": "code",
      "execution_count": 23,
      "metadata": {
        "id": "mbwzf_QpJpUF",
        "colab": {
          "base_uri": "https://localhost:8080/"
        },
        "outputId": "48f52ea0-303c-439d-fc8e-87e29bebe99a"
      },
      "outputs": [
        {
          "output_type": "stream",
          "name": "stdout",
          "text": [
            "\n",
            "\n",
            "alpha = 0.8\n",
            "n-neighbors= 1\n",
            "dimensions= 37\n",
            "accuracy: 0.93\n",
            "\n",
            "\n",
            "alpha = 0.85\n",
            "n-neighbors= 1\n",
            "dimensions= 53\n",
            "accuracy: 0.94\n",
            "\n",
            "\n",
            "alpha = 0.9\n",
            "n-neighbors= 1\n",
            "dimensions= 77\n",
            "accuracy: 0.94\n",
            "\n",
            "\n",
            "alpha = 0.95\n",
            "n-neighbors= 1\n",
            "dimensions= 116\n",
            "accuracy: 0.935\n"
          ]
        }
      ],
      "source": [
        "st6=time.time()\n",
        "for a in alpha:\n",
        "  print(\"\\n\")\n",
        "  print(\"alpha =\", a)\n",
        "  print(\"n-neighbors=\", 1)\n",
        "  if a==0.8:\n",
        "    a1=knn(reducedTrain1,reducedTest1,trainLabel, testLabel,1)\n",
        "    accuracies=np.append(accuracies,a1)\n",
        "    print(\"dimensions=\", r1)\n",
        "    print(\"accuracy:\", a1)\n",
        "  elif a==0.85:\n",
        "    a2=knn(reducedTrain2,reducedTest2,trainLabel, testLabel,1)\n",
        "    accuracies=np.append(accuracies,a2)\n",
        "    print(\"dimensions=\", r2)\n",
        "    print(\"accuracy:\", a2)\n",
        "  elif a==0.9:\n",
        "    a3=knn(reducedTrain3,reducedTest3,trainLabel, testLabel,1)\n",
        "    accuracies=np.append(accuracies,a3)\n",
        "    print(\"dimensions=\", r3)\n",
        "    print(\"accuracy:\", a3)\n",
        "  else:\n",
        "      a4=knn(reducedTrain4,reducedTest4,trainLabel, testLabel,1)\n",
        "      accuracies=np.append(accuracies,a4)\n",
        "      print(\"dimensions=\", r4)\n",
        "      print(\"accuracy:\", a4)\n",
        "end6=time.time()"
      ]
    },
    {
      "cell_type": "code",
      "source": [
        "run6=end6-st6"
      ],
      "metadata": {
        "id": "bFxNp5XJJ5Tm"
      },
      "execution_count": 24,
      "outputs": []
    },
    {
      "cell_type": "code",
      "source": [
        "pcaTime=run1+run2+run3+run4+run5+run6 #computing total time of pca"
      ],
      "metadata": {
        "id": "Z2jZy0UGKcEm"
      },
      "execution_count": 33,
      "outputs": []
    },
    {
      "cell_type": "markdown",
      "metadata": {
        "id": "u_VoTmZNaIge"
      },
      "source": [
        "Relation between alpha and classification accuracy"
      ]
    },
    {
      "cell_type": "code",
      "execution_count": null,
      "metadata": {
        "id": "OGVw7qD2aIge",
        "colab": {
          "base_uri": "https://localhost:8080/",
          "height": 279
        },
        "outputId": "839f4637-e04b-4b64-c110-54bd62ae463d"
      },
      "outputs": [
        {
          "output_type": "display_data",
          "data": {
            "text/plain": [
              "<Figure size 432x288 with 1 Axes>"
            ],
            "image/png": "[encoded data removed]"
          },
          "metadata": {
            "needs_background": "light"
          }
        }
      ],
      "source": [
        "plt.plot(alpha, accuracies)\n",
        "plt.xlabel('alpha')\n",
        "plt.ylabel('accuracy')\n",
        "plt.show()"
      ]
    },
    {
      "cell_type": "markdown",
      "metadata": {
        "id": "rYXyOS7h-mlG"
      },
      "source": [
        "## Classification Using LDA"
      ]
    },
    {
      "cell_type": "markdown",
      "metadata": {
        "id": "pA3f9QPIaIge"
      },
      "source": [
        "Calculate the mean vector for every class Mu1, Mu2, ..., Mu40\n"
      ]
    },
    {
      "cell_type": "code",
      "execution_count": null,
      "metadata": {
        "id": "OgYqFkUsaIge"
      },
      "outputs": [],
      "source": [
        "Mu = np.zeros((40,10304)) # 40 means, each of size 10304\n",
        "for i in range(40): # For each person\n",
        "  Mu[i] = np.mean(trainData[i*5:i*5+5], axis=0) # Compute mean of 5 images"
      ]
    },
    {
      "cell_type": "code",
      "execution_count": null,
      "metadata": {
        "id": "HLYcPwQWaIgf",
        "colab": {
          "base_uri": "https://localhost:8080/"
        },
        "outputId": "eaea21d1-9ccc-421c-d824-3c7424eec1b2"
      },
      "outputs": [
        {
          "output_type": "execute_result",
          "data": {
            "text/plain": [
              "array([[ 42.2,  46.6,  42.4, ...,  61.8,  56.4,  57.2],\n",
              "       [ 35.2,  35.8,  35.6, ...,  71.8,  71.6,  71.6],\n",
              "       [105.2, 104. , 107.4, ...,  50. ,  48.4,  50. ],\n",
              "       ...,\n",
              "       [109.8, 108.6, 109.6, ...,  68.2,  68. ,  65. ],\n",
              "       [ 84.6,  83.4,  85.2, ..., 115.8, 119.8, 117.4],\n",
              "       [126. , 123.6, 125.8, ...,  47.8,  46. ,  49. ]])"
            ]
          },
          "metadata": {},
          "execution_count": 16
        }
      ],
      "source": [
        "Mu"
      ]
    },
    {
      "cell_type": "markdown",
      "metadata": {
        "id": "m-eX22wYaIgf"
      },
      "source": [
        "Generate class specific subsets\n"
      ]
    },
    {
      "cell_type": "code",
      "execution_count": null,
      "metadata": {
        "id": "OJWOeEwnaIgf"
      },
      "outputs": [],
      "source": [
        "D = np.zeros((40,5,10304)) # 40 people, 5 images per person, each image of size 10304\n",
        "for i in range(40):\n",
        "  D[i] = trainData[i*5:i*5+5]\n",
        "  "
      ]
    },
    {
      "cell_type": "code",
      "execution_count": null,
      "metadata": {
        "id": "tLJsTzAVaIgf",
        "colab": {
          "base_uri": "https://localhost:8080/"
        },
        "outputId": "d207abf2-4bf8-40a6-ee10-c40a6bae7d09"
      },
      "outputs": [
        {
          "output_type": "execute_result",
          "data": {
            "text/plain": [
              "array([[[ 60.,  60.,  62., ...,  32.,  34.,  34.],\n",
              "        [ 63.,  53.,  35., ...,  41.,  10.,  24.],\n",
              "        [ 10.,  43.,  50., ..., 156., 155., 158.],\n",
              "        [ 44.,  43.,  32., ...,  43.,  43.,  37.],\n",
              "        [ 34.,  34.,  33., ...,  37.,  40.,  33.]],\n",
              "\n",
              "       [[ 37.,  35.,  35., ...,  26.,  28.,  28.],\n",
              "        [ 34.,  36.,  35., ...,  32.,  25.,  25.],\n",
              "        [ 34.,  35.,  35., ...,  31.,  24.,  24.],\n",
              "        [ 34.,  39.,  35., ..., 135., 138., 148.],\n",
              "        [ 37.,  34.,  38., ..., 135., 143., 133.]],\n",
              "\n",
              "       [[100.,  99., 108., ...,  44.,  42.,  44.],\n",
              "        [105., 102., 108., ...,  42.,  35.,  37.],\n",
              "        [110., 106., 109., ...,  49.,  53.,  53.],\n",
              "        [107., 104., 109., ...,  58.,  56.,  57.],\n",
              "        [104., 109., 103., ...,  57.,  56.,  59.]],\n",
              "\n",
              "       ...,\n",
              "\n",
              "       [[104., 106., 107., ...,  65.,  59.,  73.],\n",
              "        [110., 111., 114., ...,  65.,  72.,  65.],\n",
              "        [114., 112., 110., ...,  67.,  70.,  68.],\n",
              "        [113., 109., 113., ...,  72.,  66.,  71.],\n",
              "        [108., 105., 104., ...,  72.,  73.,  48.]],\n",
              "\n",
              "       [[ 75.,  77.,  75., ..., 116., 114., 113.],\n",
              "        [ 74.,  74.,  78., ..., 109., 113., 120.],\n",
              "        [ 97.,  94.,  92., ..., 144., 143., 129.],\n",
              "        [ 88.,  85.,  89., ..., 117., 117., 116.],\n",
              "        [ 89.,  87.,  92., ...,  93., 112., 109.]],\n",
              "\n",
              "       [[127., 131., 128., ...,  94.,  84.,  89.],\n",
              "        [130., 123., 127., ...,  33.,  37.,  40.],\n",
              "        [123., 121., 126., ...,  40.,  35.,  42.],\n",
              "        [125., 119., 124., ...,  36.,  39.,  40.],\n",
              "        [125., 124., 124., ...,  36.,  35.,  34.]]])"
            ]
          },
          "metadata": {},
          "execution_count": 18
        }
      ],
      "source": [
        "D"
      ]
    },
    {
      "cell_type": "markdown",
      "metadata": {
        "id": "Vw7cVkzsaIgf"
      },
      "source": [
        "Mean Vector for every class"
      ]
    },
    {
      "cell_type": "code",
      "execution_count": null,
      "metadata": {
        "id": "3Wi-OcolaIgf"
      },
      "outputs": [],
      "source": [
        "μ = np.mean(D, axis=1)"
      ]
    },
    {
      "cell_type": "code",
      "execution_count": null,
      "metadata": {
        "id": "V3kCMAY2aIgg",
        "colab": {
          "base_uri": "https://localhost:8080/"
        },
        "outputId": "98142cda-71e4-4aa7-b984-3f26ce03f364"
      },
      "outputs": [
        {
          "output_type": "execute_result",
          "data": {
            "text/plain": [
              "array([[ 42.2,  46.6,  42.4, ...,  61.8,  56.4,  57.2],\n",
              "       [ 35.2,  35.8,  35.6, ...,  71.8,  71.6,  71.6],\n",
              "       [105.2, 104. , 107.4, ...,  50. ,  48.4,  50. ],\n",
              "       ...,\n",
              "       [109.8, 108.6, 109.6, ...,  68.2,  68. ,  65. ],\n",
              "       [ 84.6,  83.4,  85.2, ..., 115.8, 119.8, 117.4],\n",
              "       [126. , 123.6, 125.8, ...,  47.8,  46. ,  49. ]])"
            ]
          },
          "metadata": {},
          "execution_count": 20
        }
      ],
      "source": [
        "μ"
      ]
    },
    {
      "cell_type": "markdown",
      "metadata": {
        "id": "-i5wmXyEaIgg"
      },
      "source": [
        "Calculate the between class metrices"
      ]
    },
    {
      "cell_type": "code",
      "execution_count": null,
      "metadata": {
        "id": "Jb2HzvgfaIgg"
      },
      "outputs": [],
      "source": [
        "Sb = np.zeros((10304,10304)) # Between class scatter matrix\n",
        "for i in range(40):\n",
        "  Sb[i] = 5*np.matmul((μ[i] - trainMean).T, (μ[i] - trainMean))"
      ]
    },
    {
      "cell_type": "code",
      "execution_count": null,
      "metadata": {
        "id": "LzER1Qz3aIgg",
        "colab": {
          "base_uri": "https://localhost:8080/"
        },
        "outputId": "517e332c-36cf-4ae8-93df-732d55ddb74e"
      },
      "outputs": [
        {
          "output_type": "execute_result",
          "data": {
            "text/plain": [
              "array([[73439123.41825002, 73439123.41825002, 73439123.41825002, ...,\n",
              "        73439123.41825002, 73439123.41825002, 73439123.41825002],\n",
              "       [40531262.14825   , 40531262.14825   , 40531262.14825   , ...,\n",
              "        40531262.14825   , 40531262.14825   , 40531262.14825   ],\n",
              "       [23003178.70825   , 23003178.70825   , 23003178.70825   , ...,\n",
              "        23003178.70825   , 23003178.70825   , 23003178.70825   ],\n",
              "       ...,\n",
              "       [       0.        ,        0.        ,        0.        , ...,\n",
              "               0.        ,        0.        ,        0.        ],\n",
              "       [       0.        ,        0.        ,        0.        , ...,\n",
              "               0.        ,        0.        ,        0.        ],\n",
              "       [       0.        ,        0.        ,        0.        , ...,\n",
              "               0.        ,        0.        ,        0.        ]])"
            ]
          },
          "metadata": {},
          "execution_count": 22
        }
      ],
      "source": [
        "Sb"
      ]
    },
    {
      "cell_type": "markdown",
      "metadata": {
        "id": "5sGvkrWTaIgh"
      },
      "source": [
        "Compute cener class matrices"
      ]
    },
    {
      "cell_type": "code",
      "execution_count": null,
      "metadata": {
        "id": "SQkUgJvfaIgh"
      },
      "outputs": [],
      "source": [
        "# Compute Z\n",
        "Z = np.zeros((40,5,10304)) # 40 people, 5 images per person, each image of size 10304\n",
        "for i in range(40):\n",
        "    Z[i] = D[i] - μ[i].T "
      ]
    },
    {
      "cell_type": "code",
      "execution_count": null,
      "metadata": {
        "id": "rSde6m9PaIgh",
        "colab": {
          "base_uri": "https://localhost:8080/"
        },
        "outputId": "455f23af-38aa-4a76-cc3b-515cd43eee97"
      },
      "outputs": [
        {
          "output_type": "execute_result",
          "data": {
            "text/plain": [
              "array([[[ 17.8,  13.4,  19.6, ..., -29.8, -22.4, -23.2],\n",
              "        [ 20.8,   6.4,  -7.4, ..., -20.8, -46.4, -33.2],\n",
              "        [-32.2,  -3.6,   7.6, ...,  94.2,  98.6, 100.8],\n",
              "        [  1.8,  -3.6, -10.4, ..., -18.8, -13.4, -20.2],\n",
              "        [ -8.2, -12.6,  -9.4, ..., -24.8, -16.4, -24.2]],\n",
              "\n",
              "       [[  1.8,  -0.8,  -0.6, ..., -45.8, -43.6, -43.6],\n",
              "        [ -1.2,   0.2,  -0.6, ..., -39.8, -46.6, -46.6],\n",
              "        [ -1.2,  -0.8,  -0.6, ..., -40.8, -47.6, -47.6],\n",
              "        [ -1.2,   3.2,  -0.6, ...,  63.2,  66.4,  76.4],\n",
              "        [  1.8,  -1.8,   2.4, ...,  63.2,  71.4,  61.4]],\n",
              "\n",
              "       [[ -5.2,  -5. ,   0.6, ...,  -6. ,  -6.4,  -6. ],\n",
              "        [ -0.2,  -2. ,   0.6, ...,  -8. , -13.4, -13. ],\n",
              "        [  4.8,   2. ,   1.6, ...,  -1. ,   4.6,   3. ],\n",
              "        [  1.8,   0. ,   1.6, ...,   8. ,   7.6,   7. ],\n",
              "        [ -1.2,   5. ,  -4.4, ...,   7. ,   7.6,   9. ]],\n",
              "\n",
              "       ...,\n",
              "\n",
              "       [[ -5.8,  -2.6,  -2.6, ...,  -3.2,  -9. ,   8. ],\n",
              "        [  0.2,   2.4,   4.4, ...,  -3.2,   4. ,   0. ],\n",
              "        [  4.2,   3.4,   0.4, ...,  -1.2,   2. ,   3. ],\n",
              "        [  3.2,   0.4,   3.4, ...,   3.8,  -2. ,   6. ],\n",
              "        [ -1.8,  -3.6,  -5.6, ...,   3.8,   5. , -17. ]],\n",
              "\n",
              "       [[ -9.6,  -6.4, -10.2, ...,   0.2,  -5.8,  -4.4],\n",
              "        [-10.6,  -9.4,  -7.2, ...,  -6.8,  -6.8,   2.6],\n",
              "        [ 12.4,  10.6,   6.8, ...,  28.2,  23.2,  11.6],\n",
              "        [  3.4,   1.6,   3.8, ...,   1.2,  -2.8,  -1.4],\n",
              "        [  4.4,   3.6,   6.8, ..., -22.8,  -7.8,  -8.4]],\n",
              "\n",
              "       [[  1. ,   7.4,   2.2, ...,  46.2,  38. ,  40. ],\n",
              "        [  4. ,  -0.6,   1.2, ..., -14.8,  -9. ,  -9. ],\n",
              "        [ -3. ,  -2.6,   0.2, ...,  -7.8, -11. ,  -7. ],\n",
              "        [ -1. ,  -4.6,  -1.8, ..., -11.8,  -7. ,  -9. ],\n",
              "        [ -1. ,   0.4,  -1.8, ..., -11.8, -11. , -15. ]]])"
            ]
          },
          "metadata": {},
          "execution_count": 24
        }
      ],
      "source": [
        "Z"
      ]
    },
    {
      "cell_type": "markdown",
      "metadata": {
        "id": "CQVD8E2uaIgh"
      },
      "source": [
        "Compute class scatter matrices"
      ]
    },
    {
      "cell_type": "code",
      "execution_count": null,
      "metadata": {
        "id": "rGWadw6raIgh"
      },
      "outputs": [],
      "source": [
        "S = np.zeros((10304,10304))  # Within class scatter matrix\n",
        "for i in range(40):\n",
        "  S += np.matmul(Z[i].T, Z[i])\n",
        "  "
      ]
    },
    {
      "cell_type": "code",
      "execution_count": null,
      "metadata": {
        "id": "Z4DSktpFaIgh",
        "colab": {
          "base_uri": "https://localhost:8080/"
        },
        "outputId": "cc8eb592-40bf-480b-eaf1-8bfc2fc0ed85"
      },
      "outputs": [
        {
          "output_type": "execute_result",
          "data": {
            "text/plain": [
              "array([[ 4.400240e+04,  2.592360e+04,  2.591180e+04, ..., -1.108840e+04,\n",
              "        -1.056340e+04, -5.994000e+03],\n",
              "       [ 2.592360e+04,  2.846440e+04,  2.749520e+04, ..., -3.349400e+03,\n",
              "        -3.021200e+03,  1.088800e+03],\n",
              "       [ 2.591180e+04,  2.749520e+04,  2.879560e+04, ..., -2.599600e+03,\n",
              "         2.800000e+00,  4.358000e+03],\n",
              "       ...,\n",
              "       [-1.108840e+04, -3.349400e+03, -2.599600e+03, ...,  1.396120e+05,\n",
              "         8.342360e+04,  6.300300e+04],\n",
              "       [-1.056340e+04, -3.021200e+03,  2.800000e+00, ...,  8.342360e+04,\n",
              "         1.000320e+05,  8.194700e+04],\n",
              "       [-5.994000e+03,  1.088800e+03,  4.358000e+03, ...,  6.300300e+04,\n",
              "         8.194700e+04,  1.019096e+05]])"
            ]
          },
          "metadata": {},
          "execution_count": 26
        }
      ],
      "source": [
        "S"
      ]
    },
    {
      "cell_type": "markdown",
      "metadata": {
        "id": "RQLP9DOzaIgi"
      },
      "source": [
        "compute S inverse"
      ]
    },
    {
      "cell_type": "code",
      "execution_count": null,
      "metadata": {
        "id": "_Ub1X9ocaIgi"
      },
      "outputs": [],
      "source": [
        "S_inverse = np.linalg.inv(S)"
      ]
    },
    {
      "cell_type": "code",
      "execution_count": null,
      "metadata": {
        "id": "057gx4vHaIgi",
        "colab": {
          "base_uri": "https://localhost:8080/"
        },
        "outputId": "4b953e9a-7ce7-4397-ea70-d4f216940328"
      },
      "outputs": [
        {
          "output_type": "execute_result",
          "data": {
            "text/plain": [
              "array([[-1.27854752e+10, -2.06378332e+10,  3.33454853e+09, ...,\n",
              "         7.01089388e+09,  7.23090378e+08, -1.01144894e+10],\n",
              "       [-2.97733121e+09, -1.07416811e+10,  2.91538305e+09, ...,\n",
              "         2.70583045e+09, -6.07037734e+09,  3.55680551e+09],\n",
              "       [ 3.98566474e+09,  2.02272823e+10,  5.38136667e+09, ...,\n",
              "        -5.57005939e+09,  8.17908026e+08,  4.56703499e+09],\n",
              "       ...,\n",
              "       [ 1.49879320e+09, -4.25082820e+09,  5.99977284e+08, ...,\n",
              "         3.78420213e+08, -9.47613577e+07,  1.02371596e+08],\n",
              "       [ 7.78559351e+08, -2.97861205e+09,  1.15401726e+08, ...,\n",
              "         2.48949926e+08, -8.31832559e+08,  4.36603250e+08],\n",
              "       [ 8.53181399e+08, -7.83850133e+08,  6.38783663e+08, ...,\n",
              "        -1.02842216e+08, -1.90695299e+08, -7.69241863e+07]])"
            ]
          },
          "metadata": {},
          "execution_count": 28
        }
      ],
      "source": [
        "S_inverse"
      ]
    },
    {
      "cell_type": "markdown",
      "metadata": {
        "id": "CAOUidDJaIgi"
      },
      "source": [
        "Compute eigenvalues and eigenvectors"
      ]
    },
    {
      "cell_type": "code",
      "execution_count": null,
      "metadata": {
        "id": "PtpVjCKWaIgi"
      },
      "outputs": [],
      "source": [
        "eigVal, eigVec = np.linalg.eigh((S_inverse @ Sb))"
      ]
    },
    {
      "cell_type": "code",
      "execution_count": null,
      "metadata": {
        "id": "Fz6wVWdhaIgi",
        "colab": {
          "base_uri": "https://localhost:8080/"
        },
        "outputId": "1f90f354-7c46-4940-bdaf-b9b9e43ce14a"
      },
      "outputs": [
        {
          "output_type": "execute_result",
          "data": {
            "text/plain": [
              "array([-1.85705482e+21, -6.09287987e+20, -3.73440875e+20, ...,\n",
              "        3.73703395e+20,  6.10835362e+20,  1.86624908e+21])"
            ]
          },
          "metadata": {},
          "execution_count": 30
        }
      ],
      "source": [
        "eigVal"
      ]
    },
    {
      "cell_type": "code",
      "execution_count": null,
      "metadata": {
        "id": "k1UvvBYbaIgi",
        "colab": {
          "base_uri": "https://localhost:8080/"
        },
        "outputId": "4f965572-29fc-46dd-f661-262c79ffb5ea"
      },
      "outputs": [
        {
          "output_type": "execute_result",
          "data": {
            "text/plain": [
              "array([[-0.00974741, -0.01165501,  0.01208648, ..., -0.01165829,\n",
              "         0.0117355 ,  0.00964319],\n",
              "       [-0.00973738, -0.01161847,  0.01202467, ..., -0.01171788,\n",
              "         0.0117722 ,  0.00965305],\n",
              "       [-0.00973369, -0.01160501,  0.01200192, ..., -0.01173991,\n",
              "         0.01178576,  0.0096567 ],\n",
              "       ...,\n",
              "       [-0.00481527,  0.00439576,  0.00475989, ...,  0.00457398,\n",
              "         0.0041921 , -0.00481078],\n",
              "       [-0.00406733,  0.00371313,  0.00402086, ...,  0.00386306,\n",
              "         0.00354067, -0.00406337],\n",
              "       [-0.00414181,  0.00378112,  0.00409448, ...,  0.00393384,\n",
              "         0.00360553, -0.0041378 ]])"
            ]
          },
          "metadata": {},
          "execution_count": 31
        }
      ],
      "source": [
        "eigVec"
      ]
    },
    {
      "cell_type": "markdown",
      "metadata": {
        "id": "8SVpkNCIaIgi"
      },
      "source": [
        "Use 39 dominant eigenvectors instead of just one"
      ]
    },
    {
      "cell_type": "code",
      "execution_count": null,
      "metadata": {
        "id": "gs395FLHaIgj",
        "colab": {
          "base_uri": "https://localhost:8080/"
        },
        "outputId": "f537bfa5-8fad-433f-da54-deee020e7133"
      },
      "outputs": [
        {
          "output_type": "execute_result",
          "data": {
            "text/plain": [
              "array([[ 0.04175963, -0.01086951,  0.00680039, ..., -0.01165829,\n",
              "         0.0117355 ,  0.00964319],\n",
              "       [ 0.04491409, -0.0116765 ,  0.00729376, ..., -0.01171788,\n",
              "         0.0117722 ,  0.00965305],\n",
              "       [ 0.04612173, -0.01198525,  0.00748236, ..., -0.01173991,\n",
              "         0.01178576,  0.0096567 ],\n",
              "       ...,\n",
              "       [-0.00187658, -0.00428453, -0.00379498, ...,  0.00457398,\n",
              "         0.0041921 , -0.00481078],\n",
              "       [-0.00158278, -0.00361384, -0.00320102, ...,  0.00386306,\n",
              "         0.00354067, -0.00406337],\n",
              "       [-0.00161191, -0.00368033, -0.00325991, ...,  0.00393384,\n",
              "         0.00360553, -0.0041378 ]])"
            ]
          },
          "metadata": {},
          "execution_count": 32
        }
      ],
      "source": [
        "weights = eigVec[:,-39:]\n",
        "weights"
      ]
    },
    {
      "cell_type": "markdown",
      "metadata": {
        "id": "onZ58v3baIgj"
      },
      "source": [
        "Project the training set, and test sets separately using the same projection matrix U"
      ]
    },
    {
      "cell_type": "code",
      "execution_count": null,
      "metadata": {
        "id": "C2wOMtGuaIgj"
      },
      "outputs": [],
      "source": [
        "projectedTrain = weights.T @ trainData.T\n",
        "projectedTest = weights.T @ testData.T\n"
      ]
    },
    {
      "cell_type": "code",
      "execution_count": null,
      "metadata": {
        "id": "MkJehxIJaIgj",
        "colab": {
          "base_uri": "https://localhost:8080/"
        },
        "outputId": "769d73c5-f4d1-4dee-ef52-c1e1c87fe993"
      },
      "outputs": [
        {
          "output_type": "execute_result",
          "data": {
            "text/plain": [
              "(39, 200)"
            ]
          },
          "metadata": {},
          "execution_count": 34
        }
      ],
      "source": [
        "projectedTest.shape"
      ]
    },
    {
      "cell_type": "markdown",
      "metadata": {
        "id": "fSnxPuKyaIgj"
      },
      "source": [
        "Apply KNN"
      ]
    },
    {
      "cell_type": "code",
      "execution_count": null,
      "metadata": {
        "id": "uI5mGoHTaIgj"
      },
      "outputs": [],
      "source": [
        "result = knn(projectedTrain.T, projectedTest.T, trainLabel, testLabel,1 )"
      ]
    },
    {
      "cell_type": "markdown",
      "metadata": {
        "id": "5ayuZTQJaIgj"
      },
      "source": [
        "Accuracy for the multi class LDA"
      ]
    },
    {
      "cell_type": "code",
      "execution_count": null,
      "metadata": {
        "id": "FX_PVq1WaIgk",
        "colab": {
          "base_uri": "https://localhost:8080/"
        },
        "outputId": "2a38c12c-0dbf-4991-d2e7-0f25a1413aac"
      },
      "outputs": [
        {
          "output_type": "stream",
          "name": "stdout",
          "text": [
            "Accuracy: 0.94\n"
          ]
        }
      ],
      "source": [
        "print(\"Accuracy:\", result)"
      ]
    },
    {
      "cell_type": "markdown",
      "metadata": {
        "id": "EMvFA2ABaIgk"
      },
      "source": [
        "Compare the results to PCA results."
      ]
    },
    {
      "cell_type": "code",
      "execution_count": null,
      "metadata": {
        "id": "0OUltF-RaIgk",
        "colab": {
          "base_uri": "https://localhost:8080/"
        },
        "outputId": "42a60e97-d351-4419-d802-3af3fc459a15"
      },
      "outputs": [
        {
          "output_type": "stream",
          "name": "stdout",
          "text": [
            "PCA Accuracy: 0.94\n",
            "LDA Accuracy: 0.94\n"
          ]
        }
      ],
      "source": [
        "# Compare PCA vs LDA results\n",
        "print(\"PCA Accuracy:\", a3)\n",
        "print(\"LDA Accuracy:\", result)"
      ]
    },
    {
      "cell_type": "markdown",
      "metadata": {
        "id": "Qd0h3RyzaIgk"
      },
      "source": [
        "## Part 6 Classifier Tuning"
      ]
    },
    {
      "cell_type": "markdown",
      "metadata": {
        "id": "rUpFo1EGaIgk"
      },
      "source": [
        "Compare PCA result with different K and alpha"
      ]
    },
    {
      "cell_type": "code",
      "execution_count": null,
      "metadata": {
        "id": "KxJreiemaIgk"
      },
      "outputs": [],
      "source": [
        "for k in range(1, 8, 2):\n",
        "    for a in alpha:\n",
        "        # print(\"\\n\")\n",
        "        # print(\"alpha =\", a , \"dimensions=\", r)\n",
        "        # print(\"n-neighbors=\", 1)\n",
        "        if a==0.8:\n",
        "            a1=knn(reducedTrain1,reducedTest1,trainLabel, testLabel,k)\n",
        "            accuracies=np.append(accuracies,a1)\n",
        "            # print(\"accuracy:\", a1)\n",
        "        elif a==0.85:\n",
        "            a2=knn(reducedTrain2,reducedTest2,trainLabel, testLabel,k)\n",
        "            accuracies=np.append(accuracies,a2)\n",
        "            # print(\"accuracy:\", a2)\n",
        "        elif a==0.9:\n",
        "            a3=knn(reducedTrain3,reducedTest3,trainLabel, testLabel,k)\n",
        "            accuracies=np.append(accuracies,a3)\n",
        "            # print(\"accuracy:\", a3)\n",
        "        else:\n",
        "            a4=knn(reducedTrain4,reducedTest4,trainLabel, testLabel,k)\n",
        "            accuracies=np.append(accuracies,a4)\n",
        "            # print(\"accuracy:\", a4)"
      ]
    },
    {
      "cell_type": "code",
      "execution_count": null,
      "metadata": {
        "id": "CR9izBLeaIgl",
        "colab": {
          "base_uri": "https://localhost:8080/",
          "height": 607
        },
        "outputId": "88ed73c9-166c-45a8-9158-f8b24fca5e8a"
      },
      "outputs": [
        {
          "output_type": "display_data",
          "data": {
            "text/plain": [
              "<Figure size 1080x720 with 4 Axes>"
            ],
            "image/png": "[encoded data removed]"
          },
          "metadata": {
            "needs_background": "light"
          }
        }
      ],
      "source": [
        "k=np.array([1,3,5,7])\n",
        "figure, axis= plt.subplots(2,2, figsize=(15,10))\n",
        "axis[0, 0].plot(k, accuracies[0:4])\n",
        "axis[0, 0].set_title(\"alpha=0.8\")\n",
        "\n",
        "axis[0, 1].plot(k, accuracies[4:8])\n",
        "axis[0, 1].set_title(\"alpha=0.85\")\n",
        "\n",
        "axis[1, 0].plot(k, accuracies[8:12])\n",
        "axis[1, 0].set_title(\"alpha=0.9\")\n",
        "\n",
        "axis[1, 1].plot(k, accuracies[12:16])\n",
        "axis[1, 1].set_title(\"alpha=0.95\")\n",
        "\n",
        "plt.show()"
      ]
    },
    {
      "cell_type": "code",
      "execution_count": null,
      "metadata": {
        "id": "w97kxNCnaIgl",
        "colab": {
          "base_uri": "https://localhost:8080/",
          "height": 607
        },
        "outputId": "3096cce1-242b-4d32-d189-6ff40c8a774a"
      },
      "outputs": [
        {
          "output_type": "display_data",
          "data": {
            "text/plain": [
              "<Figure size 1080x720 with 4 Axes>"
            ],
            "image/png": "[encoded data removed]"
          },
          "metadata": {
            "needs_background": "light"
          }
        }
      ],
      "source": [
        "figure, axis= plt.subplots(2,2, figsize=(15,10))\n",
        "axis[0, 0].plot(alpha, accuracies[0:16:4])\n",
        "axis[0, 0].set_title(\"k=1\")\n",
        "\n",
        "axis[0, 1].plot(alpha, accuracies[1:16:4])\n",
        "axis[0, 1].set_title(\"k=3\")\n",
        "\n",
        "axis[1, 0].plot(alpha, accuracies[2:16:4])\n",
        "axis[1, 0].set_title(\"k=5\")\n",
        "\n",
        "axis[1, 1].plot(alpha, accuracies[3:16:4])\n",
        "axis[1, 1].set_title(\"k=7\")\n",
        "\n",
        "plt.show()"
      ]
    },
    {
      "cell_type": "markdown",
      "metadata": {
        "id": "MZZArJwyaIgl"
      },
      "source": [
        "Compare LDA results for different K"
      ]
    },
    {
      "cell_type": "code",
      "execution_count": null,
      "metadata": {
        "id": "_HAiRr-1aIgm"
      },
      "outputs": [],
      "source": [
        "LDAaccuracies = np.array([])\n",
        "kArray=np.array([])\n",
        "for k in range(1, 8, 2):\n",
        "    LDAaccuracies =  np.append(LDAaccuracies, knn(projectedTrain.T, projectedTest.T, trainLabel, testLabel,k ))\n",
        "    kArray= np.append(kArray, k)"
      ]
    },
    {
      "cell_type": "code",
      "execution_count": null,
      "metadata": {
        "id": "-SPFl4QkaIgm",
        "colab": {
          "base_uri": "https://localhost:8080/",
          "height": 282
        },
        "outputId": "c97d79f7-b6a0-4e14-8fca-437fb12420d1"
      },
      "outputs": [
        {
          "output_type": "display_data",
          "data": {
            "text/plain": [
              "<Figure size 432x288 with 1 Axes>"
            ],
            "image/png": "[encoded data removed]"
          },
          "metadata": {
            "needs_background": "light"
          }
        }
      ],
      "source": [
        "plt.plot(kArray, LDAaccuracies)\n",
        "plt.xlabel('k')\n",
        "plt.ylabel('accuracy')\n",
        "plt.show()"
      ]
    },
    {
      "cell_type": "markdown",
      "metadata": {
        "id": "B5M66NSraIgY"
      },
      "source": [
        "## Part 8.b : Bonus\n"
      ]
    },
    {
      "cell_type": "markdown",
      "source": [
        "PCA variation: Kernel PCA"
      ],
      "metadata": {
        "id": "G8GQ6mO4Pumg"
      }
    },
    {
      "cell_type": "code",
      "source": [
        "st7=time.time() #calculating start time\n",
        "components=np.array([37,53,77,116])\n",
        "kpcaAccuracies=np.array([])\n",
        "for c in components:\n",
        "  for k in range(1,8,2):\n",
        "    pca=KernelPCA(n_components=c, kernel=\"rbf\") # kernel unction is gaussian radial basis function\n",
        "    trainKernel=pca.fit_transform(trainData) #transformed train data\n",
        "    testKernel=pca.fit_transform(testData) #transformed test data\n",
        "    kpcaAccuracies = np.append(kpcaAccuracies,knn(trainKernel,testKernel,trainLabel,testLabel,k)) #getting accuracy with differen k\n",
        "end7=time.time() #calculating end time"
      ],
      "metadata": {
        "id": "A_fzVNFShQcO"
      },
      "execution_count": 77,
      "outputs": []
    },
    {
      "cell_type": "code",
      "source": [
        "kpcaTime=end7-st7 #calculating the total kernel run time"
      ],
      "metadata": {
        "id": "5wInknumKLkx"
      },
      "execution_count": 78,
      "outputs": []
    },
    {
      "cell_type": "code",
      "source": [
        "print(\"Kernel accuracy for c=37 and K=1,3,5,7: \\n\", kpcaAccuracies[0:4])"
      ],
      "metadata": {
        "colab": {
          "base_uri": "https://localhost:8080/"
        },
        "id": "1huqt9nlV-Hb",
        "outputId": "d013f115-4eb4-45f4-d0a5-73f87fa7fd9e"
      },
      "execution_count": 95,
      "outputs": [
        {
          "output_type": "stream",
          "name": "stdout",
          "text": [
            "Kernel accuracy for c=37 and K=1,3,5,7: \n",
            " [1.    0.385 0.29  0.28 ]\n"
          ]
        }
      ]
    },
    {
      "cell_type": "markdown",
      "source": [
        "Compare the accuracy between the original PCA and the Kernel PCA"
      ],
      "metadata": {
        "id": "EPNJ0iDvP020"
      }
    },
    {
      "cell_type": "code",
      "source": [
        "print(\"PCA Accuracy:\", a3)\n",
        "print(\"Kernel pca accuracy:\",kpcaAccuracies[0])"
      ],
      "metadata": {
        "colab": {
          "base_uri": "https://localhost:8080/"
        },
        "id": "6Y8eMmLd9V33",
        "outputId": "0bd5d8ba-da6f-40d1-f4d0-40982279acc3"
      },
      "execution_count": 79,
      "outputs": [
        {
          "output_type": "stream",
          "name": "stdout",
          "text": [
            "PCA Accuracy: 0.94\n",
            "Kernel pca accuracy: 1.0\n"
          ]
        }
      ]
    },
    {
      "cell_type": "markdown",
      "source": [
        "Compare time between PCA and Kernel PCA"
      ],
      "metadata": {
        "id": "D31ziKJyK_d3"
      }
    },
    {
      "cell_type": "code",
      "source": [
        "print(\"PCA run time in seconds:\", pcaTime)\n",
        "print(\"Kernel pca runtime in seconds:\", kpcaTime)"
      ],
      "metadata": {
        "colab": {
          "base_uri": "https://localhost:8080/"
        },
        "id": "ikGLioGsKUnq",
        "outputId": "2ad6e190-1f49-49bd-88d6-d6ef258dda1e"
      },
      "execution_count": 92,
      "outputs": [
        {
          "output_type": "stream",
          "name": "stdout",
          "text": [
            "PCA run time in seconds: 306.08627009391785\n",
            "Kernel pca runtime in seconds: 3.464726686477661\n"
          ]
        }
      ]
    },
    {
      "cell_type": "markdown",
      "source": [
        "LDA variation: Bayes LDA"
      ],
      "metadata": {
        "id": "6JNGC5b4MtE2"
      }
    },
    {
      "cell_type": "code",
      "source": [
        "st8=time.time() #calculating start time\n",
        "lda = LinearDiscriminantAnalysis(solver='lsqr', shrinkage='auto')\n",
        "lda.fit(reducedTrain3, trainLabel) #fitting the model\n",
        "y_pred = lda.predict(reducedTest3) #predicting the label\n",
        "\n",
        "# Evaluate the model\n",
        "bldaAccuracy = lda.score(reducedTest3, testLabel) #getting the accuracy\n",
        "end8=time.time() ##calculating end time"
      ],
      "metadata": {
        "id": "_tmcUduSMwon"
      },
      "execution_count": 85,
      "outputs": []
    },
    {
      "cell_type": "code",
      "source": [
        "bldaTime=end8-st8 ##calculating total bayes lda runtime"
      ],
      "metadata": {
        "id": "2OOPJiW6N5eM"
      },
      "execution_count": 86,
      "outputs": []
    },
    {
      "cell_type": "markdown",
      "source": [
        "Compare accuracy between Kernel PCA and Bayes LDA"
      ],
      "metadata": {
        "id": "bZ7UE73gODeq"
      }
    },
    {
      "cell_type": "code",
      "source": [
        "print(\"Kernel pca accuracy:\",kpcaAccuracies[0])\n",
        "print(\"Bayes LDA:\", bldaAccuracy)"
      ],
      "metadata": {
        "colab": {
          "base_uri": "https://localhost:8080/"
        },
        "id": "GzZuVBDPN9Xf",
        "outputId": "b9961467-82ed-44c1-a1a0-9250d6455573"
      },
      "execution_count": 83,
      "outputs": [
        {
          "output_type": "stream",
          "name": "stdout",
          "text": [
            "Kernel pca accuracy: 1.0\n",
            "Bayes LDA: 0.935\n"
          ]
        }
      ]
    },
    {
      "cell_type": "markdown",
      "source": [
        "Compare time between Kernel PCA and Bayes LDA"
      ],
      "metadata": {
        "id": "m17pUNWsPSmK"
      }
    },
    {
      "cell_type": "code",
      "source": [
        "print(\"Kernel pca runtime in seconds:\", kpcaTime)\n",
        "print(\"Bayes LDA runtime in seconds:\", bldaTime)"
      ],
      "metadata": {
        "colab": {
          "base_uri": "https://localhost:8080/"
        },
        "id": "wbm5eeZSPYdR",
        "outputId": "65c276e8-a5b8-4915-d8d2-20eab2d78fa0"
      },
      "execution_count": 93,
      "outputs": [
        {
          "output_type": "stream",
          "name": "stdout",
          "text": [
            "Kernel pca runtime in seconds: 3.464726686477661\n",
            "Bayes LDA runtime in seconds: 0.0645911693572998\n"
          ]
        }
      ]
    }
  ],
  "metadata": {
    "colab": {
      "provenance": []
    },
    "gpuClass": "standard",
    "kernelspec": {
      "display_name": "Python 3",
      "name": "python3"
    },
    "language_info": {
      "codemirror_mode": {
        "name": "ipython",
        "version": 3
      },
      "file_extension": ".py",
      "mimetype": "text/x-python",
      "name": "python",
      "nbconvert_exporter": "python",
      "pygments_lexer": "ipython3",
      "version": "3.8.10"
    }
  },
  "nbformat": 4,
  "nbformat_minor": 0
}