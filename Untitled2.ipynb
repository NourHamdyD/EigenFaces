{
  "cells": [
    {
      "cell_type": "code",
      "execution_count": null,
      "metadata": {
        "id": "ANQLJoIhBlz0"
      },
      "outputs": [],
      "source": [
        "import os\n",
        "import cv2\n",
        "from google.colab.patches import cv2_imshow\n",
        "import numpy as np\n",
        "from numpy import linalg as LA\n",
        "from sklearn.neighbors import KNeighborsClassifier\n",
        "from sklearn import metrics\n",
        "from sklearn.metrics import classification_report, confusion_matrix\n",
        "import matplotlib.pyplot as plt\n",
        "from random import sample\n",
        "import random"
      ]
    },
    {
      "cell_type": "code",
      "execution_count": null,
      "metadata": {
        "id": "wngmDbUDHdmP"
      },
      "outputs": [],
      "source": [
        "from google.colab import drive\n",
        "drive.mount('/content/drive')"
      ]
    },
    {
      "cell_type": "code",
      "execution_count": null,
      "metadata": {
        "id": "ixZdWFurHhvL"
      },
      "outputs": [],
      "source": [
        "D = []\n",
        "y = np.array([])\n",
        "for i in range(1,41):\n",
        "  for j in range(1,11):\n",
        "    img_name = \"/content/drive/MyDrive/faces/s\"+str(i)+\"/\"+str(j)+\".pgm\"\n",
        "    img = cv2.imread(img_name,cv2.IMREAD_GRAYSCALE)\n",
        "    img = img.flatten()\n",
        "    D.append(img)\n",
        "    y = np.append(y,i)\n",
        "D = np.array(D)\n",
        "D.shape    "
      ]
    },
    {
      "cell_type": "code",
      "execution_count": null,
      "metadata": {
        "id": "P_BP3gXDHkhc"
      },
      "outputs": [],
      "source": [
        "testData = np.array([D[i] for i in range(0,400,2)])\n",
        "trainData = np.array([D[i] for i in range(1,400,2)])\n",
        "\n",
        "testLabel = np.array([y[i] for i in range(0,400,2)])\n",
        "trainLabel = np.array([y[i] for i in range(1,400,2)])"
      ]
    },
    {
      "cell_type": "code",
      "execution_count": null,
      "metadata": {
        "id": "1tbDjbH6HnCD"
      },
      "outputs": [],
      "source": [
        "print(trainData.shape)\n",
        "print(testData.shape)"
      ]
    },
    {
      "cell_type": "code",
      "execution_count": null,
      "metadata": {
        "id": "Ce8j27QQJUIP"
      },
      "outputs": [],
      "source": [
        "mean = np.mean(trainData, axis=0)\n",
        "print(mean)\n",
        "mean.shape"
      ]
    },
    {
      "cell_type": "code",
      "execution_count": null,
      "metadata": {
        "id": "CyQkGECbJUql"
      },
      "outputs": [],
      "source": [
        "testMean= np.mean(testData, axis=0)\n",
        "testCenter= testData- testMean"
      ]
    },
    {
      "cell_type": "code",
      "execution_count": null,
      "metadata": {
        "id": "D-Iq1aZRJYPZ"
      },
      "outputs": [],
      "source": [
        "center= trainData - mean\n",
        "cova=np.cov(center, rowvar=False, bias=True)"
      ]
    },
    {
      "cell_type": "code",
      "execution_count": null,
      "metadata": {
        "id": "L1UrBfg0JbFu"
      },
      "outputs": [],
      "source": [
        "eigenVal, eigenVec = np.linalg.eigh(cova)\n",
        "index= eigenVal.argsort()[::-1]\n",
        "val=eigenVal[index]\n",
        "vec=eigenVec[:,index]\n",
        "diagonalMat=np.diag(val)\n",
        "#print(diagonalMat)\n",
        "print(val)\n",
        "print(\"\\n\")\n",
        "print(vec)\n",
        "vec.shape "
      ]
    },
    {
      "cell_type": "code",
      "execution_count": null,
      "metadata": {
        "id": "Q0Jfyrg1Jd7G"
      },
      "outputs": [],
      "source": [
        "# eigenvals, eigenvecs = np.linalg.eig(cova)\n",
        "# idx = eigenvals.argsort()[::-1]   \n",
        "# eigenvals = eigenvals[idx]\n",
        "# eigenvecs = eigenvecs[:,idx]\n",
        "# print(eigenvals)\n",
        "# print('\\n')\n",
        "# print(eigenvecs)"
      ]
    },
    {
      "cell_type": "code",
      "execution_count": null,
      "metadata": {
        "id": "wjylmkMCJmbQ"
      },
      "outputs": [],
      "source": [
        "def knn(reducedTrainD, reducedTestD, labelsTrain, labelsTest, k ):\n",
        "  c=KNeighborsClassifier(n_neighbors = k)\n",
        "  c.fit(reducedTrainD,labelsTrain)\n",
        "  labelsPred=c.predict(reducedTestD)\n",
        "  accuracy = metrics.accuracy_score(labelsTest, labelsPred)\n",
        "  #print(\"accuracy:\", accuracy)\n",
        "  return accuracy"
      ]
    },
    {
      "cell_type": "code",
      "execution_count": null,
      "metadata": {
        "id": "mbwzf_QpJpUF"
      },
      "outputs": [],
      "source": [
        "alpha=np.array([0.8,0.85,0.9,0.95])\n",
        "accuracies=np.array([])\n",
        "totval= np.sum(val)\n",
        "explained=0\n",
        "for a in alpha:\n",
        "  r=0\n",
        "  sum=0\n",
        "  while explained <= a:\n",
        "    sum= sum+val[r]\n",
        "    explained=sum/totval\n",
        "    r=r+1\n",
        "  \n",
        "  if a==0.8:\n",
        "    p1=vec[:,:r]\n",
        "    reducedTrain1=np.dot(center, p1)\n",
        "    reducedTest1=np.dot(testCenter, p1)\n",
        "  elif a==0.85:\n",
        "    p2=vec[:,:r]\n",
        "    reducedTrain2=np.dot(center, p2)\n",
        "    reducedTest2=np.dot(testCenter, p2)\n",
        "  elif a==0.9:\n",
        "    p3=vec[:,:r]\n",
        "    reducedTrain3=np.dot(center, p3)\n",
        "    reducedTest3=np.dot(testCenter, p3)\n",
        "  else:\n",
        "    p4=vec[:,:r]\n",
        "    reducedTrain4=np.dot(center, p4)\n",
        "    reducedTest4=np.dot(testCenter, p4)\n",
        "    \n",
        "  for k in range(1,8,2):\n",
        "    print(\"\\n\")\n",
        "    print(\"alpha =\", a , \"dimensions=\", r)\n",
        "    print(\"n-neighbors=\", k)\n",
        "    if a==0.8:\n",
        "      a1=knn(reducedTrain1,reducedTest1,trainLabel, testLabel,k)\n",
        "      accuracies=np.append(accuracies,a1)\n",
        "      print(\"accuracy:\", a1)\n",
        "    elif a==0.85:\n",
        "      a2=knn(reducedTrain2,reducedTest2,trainLabel, testLabel,k)\n",
        "      accuracies=np.append(accuracies,a2)\n",
        "      print(\"accuracy:\", a2)\n",
        "    elif a==0.9:\n",
        "      a3=knn(reducedTrain3,reducedTest3,trainLabel, testLabel,k)\n",
        "      accuracies=np.append(accuracies,a3)\n",
        "      print(\"accuracy:\", a3)\n",
        "    else:\n",
        "       a4=knn(reducedTrain4,reducedTest4,trainLabel, testLabel,k)\n",
        "       accuracies=np.append(accuracies,a4)\n",
        "       print(\"accuracy:\", a4)"
      ]
    },
    {
      "cell_type": "code",
      "execution_count": null,
      "metadata": {
        "id": "jT1keBaWJt1Z"
      },
      "outputs": [],
      "source": [
        "k=np.array([1,3,5,7])\n",
        "figure, axis= plt.subplots(2,2, figsize=(15,10))\n",
        "axis[0, 0].plot(k, accuracies[0:4])\n",
        "axis[0, 0].set_title(\"alpha=0.8\")\n",
        "\n",
        "axis[0, 1].plot(k, accuracies[4:8])\n",
        "axis[0, 1].set_title(\"alpha=0.85\")\n",
        "\n",
        "axis[1, 0].plot(k, accuracies[8:12])\n",
        "axis[1, 0].set_title(\"alpha=0.9\")\n",
        "\n",
        "axis[1, 1].plot(k, accuracies[12:16])\n",
        "axis[1, 1].set_title(\"alpha=0.95\")\n",
        "\n",
        "plt.show()"
      ]
    },
    {
      "cell_type": "code",
      "execution_count": null,
      "metadata": {
        "id": "80dMm797Jxez"
      },
      "outputs": [],
      "source": [
        "figure, axis= plt.subplots(2,2, figsize=(15,10))\n",
        "axis[0, 0].plot(alpha, accuracies[0:16:4])\n",
        "axis[0, 0].set_title(\"k=1\")\n",
        "\n",
        "axis[0, 1].plot(alpha, accuracies[1:16:4])\n",
        "axis[0, 1].set_title(\"k=3\")\n",
        "\n",
        "axis[1, 0].plot(alpha, accuracies[2:16:4])\n",
        "axis[1, 0].set_title(\"k=5\")\n",
        "\n",
        "axis[1, 1].plot(alpha, accuracies[3:16:4])\n",
        "axis[1, 1].set_title(\"k=7\")\n",
        "\n",
        "plt.show()"
      ]
    },
    {
      "cell_type": "markdown",
      "metadata": {
        "id": "rYXyOS7h-mlG"
      },
      "source": [
        "Classification Using LDA"
      ]
    },
    {
      "cell_type": "code",
      "execution_count": null,
      "metadata": {
        "id": "jXSCzQqVL6RD"
      },
      "outputs": [],
      "source": [
        "#Mean vector for each class \n",
        "mean_LDA = np.zeros((40,10304))\n",
        "j = 0\n",
        "for i in range (0,200,5):\n",
        "  mean_LDA[j] = np.mean(trainData[i:i+5], axis=0)\n",
        "  j = j+1\n",
        "\n",
        "#Calculate Sb matrix\n",
        "Sb = np.empty((10304,10304))\n",
        "μ = mean.reshape(1, 10304)\n",
        "# μk = mean_LDA.reshape(10304, 1)\n",
        "\n",
        "for i in range(40):\n",
        "   μ_difference = mean_LDA[i] - μ\n",
        "   Sb += 5*np.dot(μ_difference.T, μ_difference)\n",
        "print(Sb)"
      ]
    },
    {
      "cell_type": "code",
      "execution_count": null,
      "metadata": {
        "id": "aN68EZAReNao"
      },
      "outputs": [],
      "source": [
        "#Center the data\n",
        "Z = np.zeros((200,10304))\n",
        "S = np.empty((10304,10304))\n",
        "\n",
        "for i in range (0,200):\n",
        "  Z[i] = trainData[i,:] - (mean_LDA[i//5,:]).T\n",
        "  S += np.dot(Z[i].T, Z[i])\n",
        "\n",
        "#for i in range(0,200):\n",
        "  #S[i] += np.dot((Z[i]).T,Z[i])\n",
        "S.shape\n",
        "print(S)"
      ]
    },
    {
      "cell_type": "code",
      "execution_count": null,
      "metadata": {
        "id": "fM9n5kp_x7r1"
      },
      "outputs": [],
      "source": [
        "S_inverse = np.linalg.pinv(S)"
      ]
    },
    {
      "cell_type": "code",
      "source": [
        "A = np.dot(S_inverse, Sb)\n",
        "eigenVal, eigenVec = np.linalg.eigh(np.dot(S_inverse, Sb))\n",
        "index= eigenVal.argsort()[::-1]\n",
        "val=eigenVal[index]\n",
        "vec=eigenVec[:,index]\n",
        "diagonalMat=np.diag(val)\n",
        "print(diagonalMat)\n",
        "print(val)\n",
        "print(\"\\n\")\n",
        "print(vec)\n",
        "vec.shape "
      ],
      "metadata": {
        "id": "dLfuhKBiRHok"
      },
      "execution_count": null,
      "outputs": []
    },
    {
      "cell_type": "code",
      "source": [],
      "metadata": {
        "id": "NUnz0CZ7S9Hk"
      },
      "execution_count": null,
      "outputs": []
    }
  ],
  "metadata": {
    "colab": {
      "private_outputs": true,
      "provenance": []
    },
    "kernelspec": {
      "display_name": "Python 3",
      "name": "python3"
    },
    "language_info": {
      "name": "python"
    },
    "accelerator": "GPU",
    "gpuClass": "standard"
  },
  "nbformat": 4,
  "nbformat_minor": 0
}